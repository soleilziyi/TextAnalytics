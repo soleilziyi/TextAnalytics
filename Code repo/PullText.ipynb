{
 "cells": [
  {
   "cell_type": "code",
   "execution_count": 1,
   "metadata": {},
   "outputs": [
    {
     "name": "stderr",
     "output_type": "stream",
     "text": [
      "C:\\Users\\ziyi\\Anaconda3\\lib\\site-packages\\pandas\\io\\data.py:35: FutureWarning: \n",
      "The pandas.io.data module is moved to a separate package (pandas-datareader) and will be removed from pandas in a future version.\n",
      "After installing the pandas-datareader package (https://github.com/pydata/pandas-datareader), you can change the import ``from pandas.io import data, wb`` to ``from pandas_datareader import data, wb``.\n",
      "  FutureWarning)\n"
     ]
    }
   ],
   "source": [
    "from __future__ import division\n",
    "\n",
    "import pandas as pd\n",
    "import numpy as np\n",
    "#import html2text\n",
    "from datetime import date\n",
    "import random\n",
    "import os\n",
    "\n",
    "#Packages for pulling text data \n",
    "from urllib.request import urlopen  # the lib that handles the url stuff\n",
    "from bs4 import BeautifulSoup\n",
    "import pandas.io.data as web\n",
    "from pandas.tseries.offsets import BDay\n",
    "\n",
    "#Packages for text data processing\n",
    "import nltk, re, pprint\n",
    "#nltk.download()\n",
    "from nltk.corpus import stopwords\n",
    "from nltk.probability import FreqDist\n",
    "from nltk.stem import PorterStemmer\n",
    "\n",
    "#Packages for statistical learning \n",
    "from sklearn.preprocessing import normalize as Normal\n",
    "from sklearn import svm\n",
    "from sklearn.svm import SVR\n",
    "from sklearn.model_selection import GridSearchCV\n",
    "from sklearn.model_selection import StratifiedKFold\n",
    "from sklearn.model_selection import KFold\n",
    "from sklearn.feature_extraction.text import CountVectorizer\n",
    "from sklearn.feature_extraction.text import TfidfTransformer\n",
    "from sklearn.metrics import confusion_matrix\n",
    "from sklearn.metrics import roc_auc_score\n",
    "import statsmodels.api as sm\n",
    "from sklearn import linear_model\n",
    "\n",
    "import matplotlib.pyplot as plt\n",
    "%matplotlib inline"
   ]
  },
  {
   "cell_type": "code",
   "execution_count": 2,
   "metadata": {},
   "outputs": [],
   "source": [
    "import Text_Analytics"
   ]
  },
  {
   "cell_type": "code",
   "execution_count": 3,
   "metadata": {
    "collapsed": true
   },
   "outputs": [],
   "source": [
    "#Setup working directory \n",
    "os.chdir(\"C:/Users/ziyi/Desktop/Inde project/Independent Study Anseri-20170120T004329Z/Independent Study Anseri\")"
   ]
  },
  {
   "cell_type": "code",
   "execution_count": 4,
   "metadata": {},
   "outputs": [
    {
     "name": "stderr",
     "output_type": "stream",
     "text": [
      "C:\\Users\\ziyi\\Anaconda3\\lib\\site-packages\\pandas\\core\\generic.py:2698: SettingWithCopyWarning: \n",
      "A value is trying to be set on a copy of a slice from a DataFrame.\n",
      "Try using .loc[row_indexer,col_indexer] = value instead\n",
      "\n",
      "See the caveats in the documentation: http://pandas.pydata.org/pandas-docs/stable/indexing.html#indexing-view-versus-copy\n",
      "  self[name] = value\n"
     ]
    }
   ],
   "source": [
    "MID_index=pd.read_excel(\"8K data/MID Index.xlsx\")\n",
    "MID_index.Ticker=MID_index.Ticker.apply(lambda x:x.split(\" \")[0])\n",
    "Tik_Name=MID_index[[\"Ticker\",\"Name\"]]\n",
    "Tik_Name.Name=Tik_Name.Name.apply(lambda x:x.upper())"
   ]
  },
  {
   "cell_type": "code",
   "execution_count": 5,
   "metadata": {},
   "outputs": [
    {
     "data": {
      "text/plain": [
       "(2180, 7)"
      ]
     },
     "execution_count": 5,
     "metadata": {},
     "output_type": "execute_result"
    }
   ],
   "source": [
    "df=pd.read_csv('8K data/Financials_list_files.csv')\n",
    "#df2=df[df['Form Type'].apply(lambda x:x in ['4','8-K','SC 13G/A','10-K','10-Q'])]\n",
    "df2=df[df['Form Type']=='8-K']\n",
    "df2['Text']=pd.Series(index=df2.index)\n",
    "df2.shape"
   ]
  },
  {
   "cell_type": "code",
   "execution_count": null,
   "metadata": {},
   "outputs": [
    {
     "name": "stdout",
     "output_type": "stream",
     "text": [
      "0 2180\n",
      "100 2180\n",
      "200 2180\n",
      "300 2180\n",
      "400 2180\n",
      "500 2180\n",
      "600 2180\n"
     ]
    }
   ],
   "source": [
    "counter=0\n",
    "for x, row in df2.iterrows():\n",
    "    try:\n",
    "        data = urlopen('http://www.sec.gov/Archives/'+row['Filename']).read()\n",
    "        soup=BeautifulSoup(data, 'html.parser')\n",
    "        if(row['Form Type']=='4'):\n",
    "            df2.loc[x,'Text']=soup.footnotes.get_text()\n",
    "        elif(row['Form Type']=='8-K'):\n",
    "            text=soup.body.get_text()\n",
    "            beg=text.upper().find('ITEM',1)\n",
    "            end=text.upper().find('SIGNATURE',1)\n",
    "            df2.loc[x,'Text']=text[beg:end]\n",
    "        elif(row['Form Type']=='SC 13G/A'):\n",
    "            df2.loc[x,'Text']==soup.document.get_text()\n",
    "        elif(row['Form Type']=='10-K' or row['Form Type']=='10-Q'):\n",
    "            text=soup.body.get_text()\n",
    "            beg=text.upper().find('MANAGEMENT’S DISCUSSION AND ANALYSIS OF FINANCIAL CONDITION AND RESULTS OF OPERATIONS',10000)\n",
    "            end=text.upper().find('QUANTITATIVE AND QUALITATIVE DISCLOSURES ABOUT MARKET RISK',10000)\n",
    "            df2.loc[x,'Text']=text[beg:end]\n",
    "        else:\n",
    "            continue    \n",
    "\n",
    "    except:\n",
    "        pass\n",
    "    \n",
    "    if (counter%100==0):\n",
    "        print (counter, df2.shape[0]) \n",
    "    counter+=1"
   ]
  },
  {
   "cell_type": "code",
   "execution_count": 103,
   "metadata": {},
   "outputs": [
    {
     "name": "stderr",
     "output_type": "stream",
     "text": [
      "C:\\Users\\ziyi\\Anaconda3\\lib\\site-packages\\pandas\\core\\generic.py:2698: SettingWithCopyWarning: \n",
      "A value is trying to be set on a copy of a slice from a DataFrame.\n",
      "Try using .loc[row_indexer,col_indexer] = value instead\n",
      "\n",
      "See the caveats in the documentation: http://pandas.pydata.org/pandas-docs/stable/indexing.html#indexing-view-versus-copy\n",
      "  self[name] = value\n"
     ]
    }
   ],
   "source": [
    "index=df2.index\n",
    "\n",
    "df2.Text=df2.Text.astype(str)\n",
    "df2.Text=df2.Text.apply(lambda x:x.upper())\n",
    "df2.Text=df2.Text.apply(lambda x:x.replace('\\xa0',' '))\n",
    "\n",
    "#Add Ticker column\n",
    "df2=df2.merge(Tik_Name,how=\"left\",left_on=\"Company Name\",right_on=\"Name\")\n",
    "df2.index=index\n",
    "df2=df2.drop([\"Name\"],axis=1)\n"
   ]
  },
  {
   "cell_type": "code",
   "execution_count": 155,
   "metadata": {},
   "outputs": [
    {
     "data": {
      "text/plain": [
       "[7209, 8325, 8326, 8327, 8328, 9217, 9218, 9219, 9220, 9221, 9222]"
      ]
     },
     "execution_count": 155,
     "metadata": {},
     "output_type": "execute_result"
    }
   ],
   "source": [
    "#Drop Companies without price information\n",
    "to_drop=[\"VERSUM MATERIALS INC\",\"KEYSIGHT TECHNOLOGIES INC\",'CDK GLOBAL INC',\n",
    "         'KNOWLES CORP','SCIENCE APPLICATIONS INTERNATIONAL CORP']\n",
    "\n",
    "to_drop_index=[]\n",
    "for i,row in df2.iterrows():\n",
    "    if row[\"Company Name\"] in to_drop:\n",
    "        to_drop_index.append(i)\n",
    "to_drop_index"
   ]
  },
  {
   "cell_type": "code",
   "execution_count": 157,
   "metadata": {},
   "outputs": [],
   "source": [
    "df2=df2.drop(to_drop_index)"
   ]
  },
  {
   "cell_type": "code",
   "execution_count": 159,
   "metadata": {
    "collapsed": true
   },
   "outputs": [],
   "source": [
    "df2.to_excel('8K data/8K_Info.xlsx')"
   ]
  }
 ],
 "metadata": {
  "kernelspec": {
   "display_name": "Python 3",
   "language": "python",
   "name": "python3"
  },
  "language_info": {
   "codemirror_mode": {
    "name": "ipython",
    "version": 3
   },
   "file_extension": ".py",
   "mimetype": "text/x-python",
   "name": "python",
   "nbconvert_exporter": "python",
   "pygments_lexer": "ipython3",
   "version": "3.6.5"
  }
 },
 "nbformat": 4,
 "nbformat_minor": 1
}
