{
 "cells": [
  {
   "cell_type": "code",
   "execution_count": 1,
   "metadata": {
    "collapsed": false
   },
   "outputs": [
    {
     "name": "stderr",
     "output_type": "stream",
     "text": [
      "C:\\Users\\ziyi\\Anaconda3\\lib\\site-packages\\pandas\\io\\data.py:35: FutureWarning: \n",
      "The pandas.io.data module is moved to a separate package (pandas-datareader) and will be removed from pandas in a future version.\n",
      "After installing the pandas-datareader package (https://github.com/pydata/pandas-datareader), you can change the import ``from pandas.io import data, wb`` to ``from pandas_datareader import data, wb``.\n",
      "  FutureWarning)\n"
     ]
    }
   ],
   "source": [
    "import pandas as pd\n",
    "import numpy as np\n",
    "import pandas.io.data as web\n",
    "from pandas.tseries.offsets import BDay\n",
    "from sklearn.preprocessing import normalize as Normal\n",
    "from sklearn import svm\n",
    "from sklearn.model_selection import GridSearchCV\n",
    "from sklearn.model_selection import StratifiedKFold\n",
    "from sklearn.metrics import confusion_matrix\n",
    "from sklearn.metrics import roc_auc_score\n",
    "import statsmodels.api as sm\n",
    "import os"
   ]
  },
  {
   "cell_type": "markdown",
   "metadata": {},
   "source": [
    "## Class and Functions"
   ]
  },
  {
   "cell_type": "code",
   "execution_count": 2,
   "metadata": {
    "code_folding": [
     0,
     3,
     19,
     33
    ],
    "collapsed": false
   },
   "outputs": [],
   "source": [
    "class KeywordAnalyzer:\n",
    "    \n",
    "    # constructor: pass in the keyword data frame, and the list of tickers associated with company names\n",
    "    def __init__(self, keywords_df, ticker_df ):\n",
    "        self.__Keywords=keywords_df.copy()\n",
    "        self.__Keywords['Ticker']=self.__Keywords['Company Name'].apply(lambda x:ticker_df[ticker_df.Name==x]['Ticker'].tolist()[0])\n",
    "        self.__Keywords['Ticker']=self.__Keywords['Ticker'].apply(lambda x:x.split(' ')[0])\n",
    "        try:\n",
    "            self.__Keywords['Date Filed']=self.__Keywords['Date Filed'].apply(lambda x: pd.to_datetime(x, format='%Y-%M-%d'))\n",
    "        except:\n",
    "            pass\n",
    "        \n",
    "        #initialize response dataframe\n",
    "        self.__Y=pd.DataFrame(index=keywords_df.index)\n",
    "        #initialize return time series\n",
    "        self.__TS=pd.DataFrame()\n",
    "        \n",
    "        \n",
    "    # display       \n",
    "    def get_X(self):\n",
    "        return self.__Keywords\n",
    "    \n",
    "    \n",
    "    # get Y data as response\n",
    "    def get_Y(self, kind='Return'):\n",
    "        if(kind in self.__Y.columns.tolist()): #already calculate\n",
    "            pass\n",
    "        else:\n",
    "            self.__Y[kind]=self.__Keywords.apply(lambda x: get_Ticker_Y(x.loc['Ticker'], x.loc['Date Filed'], kind),axis=1)\n",
    "            \n",
    "        return self.__Y\n",
    "            \n",
    "    # get stock return time series\n",
    "    def get_TS(self, window=10):\n",
    "        if(str(window-1) in self.__TS.columns.tolist()): #already called\n",
    "            pass\n",
    "        else:\n",
    "            #tmp_df=pd.DataFrame(index=self.__TS.index, columns=np.arange(window,-1,-1))\n",
    "            for i,row in self.__Keywords.iterrows():\n",
    "                tmp=get_Ticker_TS(row.Ticker, row['Date Filed'], window)\n",
    "                tmp.name=i\n",
    "                self.__TS=self.__TS.append(tmp)\n",
    "             \n",
    "        return (self.__TS)\n",
    "    \n",
    "    def prep_Classifier(self, kind='Return', normalize=True):\n",
    "        tmp=self.__Keywords.drop(['Ticker','CIK','Company Name','Date Filed'],axis=1).copy()\n",
    "        if(normalize):\n",
    "            TS_mat=Normal(self.__TS.as_matrix(),axis=0)\n",
    "            KW_mat=Normal(tmp.as_matrix(),axis=0)\n",
    "        else:\n",
    "            TS_mat=self.__TS.as_matrix()\n",
    "            KW_mat=tmp.as_matrix()\n",
    "                \n",
    "        label=(self.__Y[kind].as_matrix().T>0)*2-1\n",
    "        \n",
    "        return TS_mat, KW_mat, label\n",
    "        "
   ]
  },
  {
   "cell_type": "code",
   "execution_count": 3,
   "metadata": {
    "code_folding": [
     0
    ],
    "collapsed": false
   },
   "outputs": [],
   "source": [
    "#helper function\n",
    "def get_Ticker_Y(ticker, date, kind, window=22, window2=5):\n",
    "    #get trading day\n",
    "    if(date==date+BDay(0)): # if date is a trading day\n",
    "        T0=date\n",
    "        T1=date+BDay(1)\n",
    "    else:\n",
    "        T0=date-BDay(1)\n",
    "        T1=date+BDay(1)\n",
    "    \n",
    "    \n",
    "    if(kind=='Return'):# get T+1 return\n",
    "        try:\n",
    "            price = web.DataReader(ticker, 'yahoo', T0, T1)\n",
    "        except:\n",
    "            try:\n",
    "                price = web.DataReader(ticker, 'google', T0, T1)\n",
    "            except:\n",
    "                return 0\n",
    "        \n",
    "        try:\n",
    "            return price.Close[1]/price.Close[0]-1\n",
    "        except:\n",
    "            return 0\n",
    "        \n",
    "    elif(kind=='Return_Z'): # get T+1 Z score of return\n",
    "        try:\n",
    "            price = web.DataReader(ticker, 'yahoo', date-BDay(window), T1)\n",
    "        except:\n",
    "            try:\n",
    "                price = web.DataReader(ticker, 'google', date-BDay(window), T1)\n",
    "            except:\n",
    "                return 0\n",
    "        \n",
    "        daily_return=price.Close.pct_change(1)\n",
    "        return float((daily_return.tail(1)-daily_return.mean())/daily_return.std())\n",
    "    \n",
    "    \n",
    "    elif(kind=='Vol_Ratio'): # get T+1 \n",
    "        try:\n",
    "            price = web.DataReader(ticker, 'yahoo', date-BDay(window), T1+BDay(window2-1))\n",
    "        except:\n",
    "            try:\n",
    "                price = web.DataReader(ticker, 'google', date-BDay(window), T1+BDay(window2-1))\n",
    "            except:\n",
    "                return 0\n",
    "            \n",
    "        daily_return=price.Close.pct_change(1)    \n",
    "        return float(daily_return.tail(5).std(ddof=0)/daily_return.head(22).std(ddof=0)-1)\n",
    "\n",
    "        "
   ]
  },
  {
   "cell_type": "code",
   "execution_count": 4,
   "metadata": {
    "code_folding": [
     0
    ],
    "collapsed": true
   },
   "outputs": [],
   "source": [
    "# helper function\n",
    "def get_Ticker_TS(ticker, date, window):\n",
    "    if(date==date+BDay(0)): # if date is a trading day\n",
    "        T0=date\n",
    "    else:\n",
    "        T0=date-BDay(1)\n",
    "        \n",
    "        \n",
    "    try:\n",
    "        price = web.DataReader(ticker, 'yahoo', T0-BDay(window+3), T0)\n",
    "    except:\n",
    "        try:\n",
    "            price = web.DataReader(ticker, 'google', T0-BDay(window+3), T0)\n",
    "        except:\n",
    "            return 0\n",
    "        \n",
    "    r=price.Close.pct_change(1).tail(window)\n",
    "    r.index=['Lag '+ str(i) for i in np.arange(window-1,-1,-1)]\n",
    "    return r\n",
    "    \n",
    "    "
   ]
  },
  {
   "cell_type": "markdown",
   "metadata": {},
   "source": [
    "## Data Preparation"
   ]
  },
  {
   "cell_type": "code",
   "execution_count": 20,
   "metadata": {
    "collapsed": true
   },
   "outputs": [],
   "source": [
    "#Setup working directory \n",
    "os.chdir(\"C:/Users/ziyi/Desktop/Inde project/Independent Study Anseri-20170120T004329Z/Independent Study Anseri\")\n",
    "\n",
    "#Setup Item Parameters \n",
    "\n",
    "#Setup Output Parameters\n",
    "addX1='8K data/X1.csv'\n",
    "addX2='8K data/X2.csv'\n",
    "addY='8K data/Y.csv'"
   ]
  },
  {
   "cell_type": "code",
   "execution_count": 6,
   "metadata": {
    "collapsed": false
   },
   "outputs": [],
   "source": [
    "#Import Data\n",
    "df=pd.read_csv(\"8K data/events_ts_Info.csv\", index_col=0)\n",
    "df2=pd.read_csv(\"8K data/list_40.csv\", index_col=0)\n",
    "df['Date Filed']=df['Date Filed'].apply(lambda x: pd.to_datetime(x, format='%Y-%m-%d').date())"
   ]
  },
  {
   "cell_type": "code",
   "execution_count": 7,
   "metadata": {
    "collapsed": false,
    "scrolled": true
   },
   "outputs": [],
   "source": [
    "KA=KeywordAnalyzer(df,df2)"
   ]
  },
  {
   "cell_type": "code",
   "execution_count": 8,
   "metadata": {
    "collapsed": true
   },
   "outputs": [],
   "source": [
    "# pull stock return as label\n",
    "Y=KA.get_Y(kind='Vol_Ratio')"
   ]
  },
  {
   "cell_type": "markdown",
   "metadata": {
    "collapsed": true
   },
   "source": [
    "#Pull stock return time series as X\n",
    "KA.get_TS(window=10)"
   ]
  },
  {
   "cell_type": "markdown",
   "metadata": {
    "collapsed": false,
    "scrolled": true
   },
   "source": [
    "X1, X2,Y= KA.prep_Classifier(kind='Vol_Ratio',normalize=False)"
   ]
  },
  {
   "cell_type": "markdown",
   "metadata": {
    "collapsed": false
   },
   "source": [
    "pd.DataFrame(X1).to_csv(addX1)\n",
    "pd.DataFrame(X2).to_csv(addX2)\n",
    "pd.DataFrame(Y).to_csv(addY)"
   ]
  },
  {
   "cell_type": "markdown",
   "metadata": {},
   "source": [
    "## Linear Regression"
   ]
  },
  {
   "cell_type": "code",
   "execution_count": 104,
   "metadata": {
    "collapsed": false
   },
   "outputs": [],
   "source": [
    "X2=pd.DataFrame(X2, columns=df.columns[3:])"
   ]
  },
  {
   "cell_type": "code",
   "execution_count": 106,
   "metadata": {
    "collapsed": true
   },
   "outputs": [
    {
     "data": {
      "text/plain": [
       "ITEM 1.01    106\n",
       "ITEM 1.02      2\n",
       "ITEM 1.03      0\n",
       "ITEM 1.04      0\n",
       "ITEM 2.01     10\n",
       "ITEM 2.02    309\n",
       "ITEM 2.03     51\n",
       "ITEM 2.04      0\n",
       "ITEM 2.05      3\n",
       "ITEM 2.06      2\n",
       "ITEM 3.01      2\n",
       "ITEM 3.02     11\n",
       "ITEM 3.03      0\n",
       "ITEM 4.01      0\n",
       "ITEM 4.02      0\n",
       "ITEM 5.01      0\n",
       "ITEM 5.02    162\n",
       "ITEM 5.03     23\n",
       "ITEM 5.04      1\n",
       "ITEM 5.05      1\n",
       "ITEM 5.06      0\n",
       "ITEM 5.07     80\n",
       "ITEM 5.08      0\n",
       "ITEM 6.01      0\n",
       "ITEM 6.02      0\n",
       "ITEM 6.03      0\n",
       "ITEM 6.04      0\n",
       "ITEM 6.05      0\n",
       "ITEM 7.01    299\n",
       "ITEM 8.01    215\n",
       "ITEM 9.01    743\n",
       "dtype: int64"
      ]
     },
     "execution_count": 106,
     "metadata": {},
     "output_type": "execute_result"
    }
   ],
   "source": [
    "X2.sum(axis=0)"
   ]
  },
  {
   "cell_type": "code",
   "execution_count": null,
   "metadata": {
    "collapsed": true
   },
   "outputs": [],
   "source": [
    "df_temp=df.drop(['CIK','Company Name','Date Filed'],axis=1).copy()\n",
    "df_temp.sum(axis=0)"
   ]
  },
  {
   "cell_type": "code",
   "execution_count": null,
   "metadata": {
    "collapsed": true
   },
   "outputs": [],
   "source": [
    "X2=Normal(df_temp.as_matrix(),axis=1)"
   ]
  },
  {
   "cell_type": "code",
   "execution_count": 107,
   "metadata": {
    "collapsed": false
   },
   "outputs": [],
   "source": [
    "X2=X2.iloc[:,[0,5,6,16,21,28,29,30]]"
   ]
  },
  {
   "cell_type": "code",
   "execution_count": 108,
   "metadata": {
    "collapsed": false
   },
   "outputs": [
    {
     "name": "stdout",
     "output_type": "stream",
     "text": [
      "                            OLS Regression Results                            \n",
      "==============================================================================\n",
      "Dep. Variable:                      y   R-squared:                       0.892\n",
      "Model:                            OLS   Adj. R-squared:                  0.891\n",
      "Method:                 Least Squares   F-statistic:                     1006.\n",
      "Date:                Tue, 24 Jan 2017   Prob (F-statistic):               0.00\n",
      "Time:                        19:57:59   Log-Likelihood:                -301.27\n",
      "No. Observations:                 983   AIC:                             618.5\n",
      "Df Residuals:                     975   BIC:                             657.7\n",
      "Df Model:                           8                                         \n",
      "Covariance Type:            nonrobust                                         \n",
      "==============================================================================\n",
      "                 coef    std err          t      P>|t|      [95.0% Conf. Int.]\n",
      "------------------------------------------------------------------------------\n",
      "ITEM 1.01      0.3904      0.045      8.610      0.000         0.301     0.479\n",
      "ITEM 2.02      0.4549      0.028     16.375      0.000         0.400     0.509\n",
      "ITEM 2.03      0.1434      0.061      2.345      0.019         0.023     0.263\n",
      "ITEM 5.02      0.6031      0.028     21.173      0.000         0.547     0.659\n",
      "ITEM 5.07      0.6922      0.037     18.460      0.000         0.619     0.766\n",
      "ITEM 7.01      0.4227      0.025     17.085      0.000         0.374     0.471\n",
      "ITEM 8.01      0.5273      0.027     19.715      0.000         0.475     0.580\n",
      "ITEM 9.01      0.3966      0.025     15.613      0.000         0.347     0.446\n",
      "==============================================================================\n",
      "Omnibus:                      109.065   Durbin-Watson:                   1.701\n",
      "Prob(Omnibus):                  0.000   Jarque-Bera (JB):              200.704\n",
      "Skew:                          -0.707   Prob(JB):                     2.62e-44\n",
      "Kurtosis:                       4.702   Cond. No.                         6.77\n",
      "==============================================================================\n",
      "\n",
      "Warnings:\n",
      "[1] Standard Errors assume that the covariance matrix of the errors is correctly specified.\n"
     ]
    }
   ],
   "source": [
    "model = sm.OLS(Y,X2)\n",
    "results = model.fit()\n",
    "print(results.summary())"
   ]
  },
  {
   "cell_type": "markdown",
   "metadata": {},
   "source": [
    "## SVM (Normalized)"
   ]
  },
  {
   "cell_type": "markdown",
   "metadata": {},
   "source": [
    "### Rough Grid"
   ]
  },
  {
   "cell_type": "code",
   "execution_count": 160,
   "metadata": {
    "collapsed": false
   },
   "outputs": [
    {
     "data": {
      "text/plain": [
       "(979, 10)"
      ]
     },
     "execution_count": 160,
     "metadata": {},
     "output_type": "execute_result"
    }
   ],
   "source": [
    "X1.shape"
   ]
  },
  {
   "cell_type": "code",
   "execution_count": 162,
   "metadata": {
    "collapsed": false,
    "scrolled": false
   },
   "outputs": [
    {
     "data": {
      "text/plain": [
       "GridSearchCV(cv=StratifiedKFold(n_splits=10, random_state=None, shuffle=False),\n",
       "       error_score='raise',\n",
       "       estimator=SVC(C=1.0, cache_size=200, class_weight=None, coef0=0.0,\n",
       "  decision_function_shape=None, degree=3, gamma='auto', kernel='linear',\n",
       "  max_iter=-1, probability=False, random_state=None, shrinking=True,\n",
       "  tol=0.001, verbose=False),\n",
       "       fit_params={}, iid=True, n_jobs=1,\n",
       "       param_grid={'C': array([ 1998.1959 ,  2100.64559,  2208.34799,  2321.57241,  2440.60198,\n",
       "        2565.73432,  2697.28233,  2835.57495,  2980.95799,  3133.79497])},\n",
       "       pre_dispatch='2*n_jobs', refit=True, return_train_score=True,\n",
       "       scoring=None, verbose=0)"
      ]
     },
     "execution_count": 162,
     "metadata": {},
     "output_type": "execute_result"
    }
   ],
   "source": [
    "# Grid method to tune hyper parameters, which is the penalty weight in linear svm\n",
    "# we only use linear model\n",
    "t_sample=700\n",
    "\n",
    "skf = StratifiedKFold(n_splits=10)\n",
    "parameters = {'C':np.exp(np.arange(-5,15,0.5))}\n",
    "\n",
    "svc = svm.SVC(kernel='linear')\n",
    "clf = GridSearchCV(svc, parameters,cv=skf)\n",
    "clf.fit(X1[:t_sample,:], Y[:t_sample])"
   ]
  },
  {
   "cell_type": "code",
   "execution_count": 165,
   "metadata": {
    "collapsed": false
   },
   "outputs": [
    {
     "name": "stdout",
     "output_type": "stream",
     "text": [
      "{'C': 1998.1958951041172}\n",
      "Log is  7.6\n"
     ]
    }
   ],
   "source": [
    "print(clf.best_params_)\n",
    "best_power=np.log(clf.best_params_['C'])\n",
    "print('Log is ', best_power)"
   ]
  },
  {
   "cell_type": "markdown",
   "metadata": {},
   "source": [
    "### Fine grid"
   ]
  },
  {
   "cell_type": "code",
   "execution_count": 166,
   "metadata": {
    "collapsed": false
   },
   "outputs": [
    {
     "data": {
      "text/plain": [
       "GridSearchCV(cv=StratifiedKFold(n_splits=10, random_state=None, shuffle=False),\n",
       "       error_score='raise',\n",
       "       estimator=SVC(C=1.0, cache_size=200, class_weight=None, coef0=0.0,\n",
       "  decision_function_shape=None, degree=3, gamma='auto', kernel='linear',\n",
       "  max_iter=-1, probability=False, random_state=None, shrinking=True,\n",
       "  tol=0.001, verbose=False),\n",
       "       fit_params={}, iid=True, n_jobs=1,\n",
       "       param_grid={'C': array([ 1635.98443,  1719.86315,  1808.04241,  1900.74273,  1998.1959 ,\n",
       "        2100.64559,  2208.34799,  2321.57241,  2440.60198,  2565.73432])},\n",
       "       pre_dispatch='2*n_jobs', refit=True, return_train_score=True,\n",
       "       scoring=None, verbose=0)"
      ]
     },
     "execution_count": 166,
     "metadata": {},
     "output_type": "execute_result"
    }
   ],
   "source": [
    "parameters = {'C':np.exp(np.arange(best_power-0.2,best_power+0.25,0.05))}\n",
    "\n",
    "clf = GridSearchCV(svc, parameters,cv=skf)\n",
    "clf.fit(X1[:t_sample,:], Y[:t_sample])"
   ]
  },
  {
   "cell_type": "code",
   "execution_count": 167,
   "metadata": {
    "collapsed": false
   },
   "outputs": [
    {
     "name": "stdout",
     "output_type": "stream",
     "text": [
      "{'C': 1635.9844299959257}\n",
      "Log is  7.4\n"
     ]
    }
   ],
   "source": [
    "print(clf.best_params_)\n",
    "best_power=np.log(clf.best_params_['C'])\n",
    "print('Log is ', best_power)"
   ]
  },
  {
   "cell_type": "markdown",
   "metadata": {},
   "source": [
    "### Out of sample score"
   ]
  },
  {
   "cell_type": "code",
   "execution_count": 169,
   "metadata": {
    "collapsed": true
   },
   "outputs": [],
   "source": [
    "svc = svm.SVC(kernel='linear',C=np.exp(best_power))\n",
    "svc.fit(X1[:t_sample,:],Y[:t_sample])\n",
    "pred=svc.predict(X1[t_sample:,:])"
   ]
  },
  {
   "cell_type": "code",
   "execution_count": 171,
   "metadata": {
    "collapsed": false
   },
   "outputs": [
    {
     "data": {
      "text/plain": [
       "array([[170,  11],\n",
       "       [ 83,  15]])"
      ]
     },
     "execution_count": 171,
     "metadata": {},
     "output_type": "execute_result"
    }
   ],
   "source": [
    "confusion_matrix(Y[t_sample:], pred)"
   ]
  },
  {
   "cell_type": "code",
   "execution_count": 172,
   "metadata": {
    "collapsed": false
   },
   "outputs": [
    {
     "data": {
      "text/plain": [
       "0.5461438719134063"
      ]
     },
     "execution_count": 172,
     "metadata": {},
     "output_type": "execute_result"
    }
   ],
   "source": [
    "roc_auc_score(Y[t_sample:], pred)"
   ]
  },
  {
   "cell_type": "markdown",
   "metadata": {},
   "source": [
    "### SVM Pipeline--Text Only"
   ]
  },
  {
   "cell_type": "code",
   "execution_count": 175,
   "metadata": {
    "collapsed": true
   },
   "outputs": [],
   "source": [
    "def SVM_pipeline(X,Y, test_ratio):\n",
    "    t_sample=int(np.floor(X.shape[0]*test_ratio))\n",
    "    \n",
    "    #rough grid\n",
    "    skf = StratifiedKFold(n_splits=10)\n",
    "    parameters = {'C':np.exp(np.arange(-5,10,1))}\n",
    "    svc = svm.SVC(kernel='linear')\n",
    "    clf = GridSearchCV(svc, parameters,cv=skf)\n",
    "    clf.fit(X1[:t_sample,:], Y[:t_sample])\n",
    "    best_power=np.log(clf.best_params_['C'])\n",
    "    \n",
    "    #fine grid\n",
    "    parameters = {'C':np.exp(np.arange(best_power-0.5,best_power+0.6,0.1))}\n",
    "    clf = GridSearchCV(svc, parameters,cv=skf)\n",
    "    clf.fit(X[:t_sample,:], Y[:t_sample])\n",
    "    best_power=np.log(clf.best_params_['C'])\n",
    "    \n",
    "    #construct model and predict\n",
    "    svc = svm.SVC(kernel='linear',C=np.exp(best_power))\n",
    "    svc.fit(X1[:t_sample,:],Y[:t_sample])\n",
    "    pred=svc.predict(X1[t_sample:,:])\n",
    "    c_mat=confusion_matrix(Y[t_sample:], pred)\n",
    "    auc=roc_auc_score(Y[t_sample:], pred)\n",
    "    \n",
    "    return pred, c_mat, auc"
   ]
  },
  {
   "cell_type": "code",
   "execution_count": 174,
   "metadata": {
    "collapsed": false,
    "scrolled": false
   },
   "outputs": [
    {
     "name": "stderr",
     "output_type": "stream",
     "text": [
      "C:\\Users\\castc\\Anaconda32\\lib\\site-packages\\ipykernel\\__main__.py:9: VisibleDeprecationWarning: using a non-integer number instead of an integer will result in an error in the future\n",
      "C:\\Users\\castc\\Anaconda32\\lib\\site-packages\\ipykernel\\__main__.py:15: VisibleDeprecationWarning: using a non-integer number instead of an integer will result in an error in the future\n",
      "C:\\Users\\castc\\Anaconda32\\lib\\site-packages\\ipykernel\\__main__.py:20: VisibleDeprecationWarning: using a non-integer number instead of an integer will result in an error in the future\n",
      "C:\\Users\\castc\\Anaconda32\\lib\\site-packages\\ipykernel\\__main__.py:21: VisibleDeprecationWarning: using a non-integer number instead of an integer will result in an error in the future\n",
      "C:\\Users\\castc\\Anaconda32\\lib\\site-packages\\ipykernel\\__main__.py:22: VisibleDeprecationWarning: using a non-integer number instead of an integer will result in an error in the future\n",
      "C:\\Users\\castc\\Anaconda32\\lib\\site-packages\\ipykernel\\__main__.py:23: VisibleDeprecationWarning: using a non-integer number instead of an integer will result in an error in the future\n"
     ]
    }
   ],
   "source": [
    "pred, c_mat, auc=SVM_pipeline(X2,Y, 0.7)"
   ]
  },
  {
   "cell_type": "code",
   "execution_count": 176,
   "metadata": {
    "collapsed": false
   },
   "outputs": [
    {
     "data": {
      "text/plain": [
       "array([[174,  17],\n",
       "       [ 84,  19]])"
      ]
     },
     "execution_count": 176,
     "metadata": {},
     "output_type": "execute_result"
    }
   ],
   "source": [
    "c_mat"
   ]
  },
  {
   "cell_type": "code",
   "execution_count": 177,
   "metadata": {
    "collapsed": false
   },
   "outputs": [
    {
     "data": {
      "text/plain": [
       "0.54773039190769068"
      ]
     },
     "execution_count": 177,
     "metadata": {},
     "output_type": "execute_result"
    }
   ],
   "source": [
    "auc"
   ]
  },
  {
   "cell_type": "markdown",
   "metadata": {},
   "source": [
    "### TS+Text"
   ]
  },
  {
   "cell_type": "code",
   "execution_count": 184,
   "metadata": {
    "collapsed": false
   },
   "outputs": [],
   "source": [
    "pred, c_mat, auc=SVM_pipeline(np.concatenate([X1,X2],axis=1),Y, 0.7)"
   ]
  },
  {
   "cell_type": "code",
   "execution_count": 185,
   "metadata": {
    "collapsed": false
   },
   "outputs": [
    {
     "data": {
      "text/plain": [
       "array([[170,  21],\n",
       "       [ 83,  20]])"
      ]
     },
     "execution_count": 185,
     "metadata": {},
     "output_type": "execute_result"
    }
   ],
   "source": [
    "c_mat"
   ]
  },
  {
   "cell_type": "code",
   "execution_count": 186,
   "metadata": {
    "collapsed": false
   },
   "outputs": [
    {
     "data": {
      "text/plain": [
       "0.54211355665124783"
      ]
     },
     "execution_count": 186,
     "metadata": {},
     "output_type": "execute_result"
    }
   ],
   "source": [
    "auc"
   ]
  },
  {
   "cell_type": "markdown",
   "metadata": {},
   "source": [
    "## SVM (Non-Normalized)"
   ]
  },
  {
   "cell_type": "code",
   "execution_count": 196,
   "metadata": {
    "collapsed": true
   },
   "outputs": [],
   "source": [
    "X1, X2,Y= KA.prep_Classifier(normalize=False)"
   ]
  },
  {
   "cell_type": "code",
   "execution_count": 197,
   "metadata": {
    "collapsed": true
   },
   "outputs": [],
   "source": [
    "pd.DataFrame(X1).to_csv('X1.csv')\n",
    "pd.DataFrame(X2).to_csv('X2.csv')\n",
    "pd.DataFrame(Y).to_csv('Y.csv')"
   ]
  },
  {
   "cell_type": "code",
   "execution_count": 198,
   "metadata": {
    "collapsed": false
   },
   "outputs": [],
   "source": [
    "# Time series only\n",
    "pred, c_mat, auc=SVM_pipeline(X1,Y, 0.7)"
   ]
  },
  {
   "cell_type": "code",
   "execution_count": 199,
   "metadata": {
    "collapsed": false
   },
   "outputs": [
    {
     "data": {
      "text/plain": [
       "array([[170,  21],\n",
       "       [ 83,  20]])"
      ]
     },
     "execution_count": 199,
     "metadata": {},
     "output_type": "execute_result"
    }
   ],
   "source": [
    "c_mat"
   ]
  },
  {
   "cell_type": "code",
   "execution_count": 200,
   "metadata": {
    "collapsed": false
   },
   "outputs": [
    {
     "data": {
      "text/plain": [
       "0.54211355665124783"
      ]
     },
     "execution_count": 200,
     "metadata": {},
     "output_type": "execute_result"
    }
   ],
   "source": [
    "auc"
   ]
  },
  {
   "cell_type": "code",
   "execution_count": 201,
   "metadata": {
    "collapsed": true
   },
   "outputs": [],
   "source": [
    "# Text only\n",
    "pred, c_mat, auc=SVM_pipeline(X2,Y, 0.7)"
   ]
  },
  {
   "cell_type": "code",
   "execution_count": 202,
   "metadata": {
    "collapsed": false
   },
   "outputs": [
    {
     "data": {
      "text/plain": [
       "array([[180,  11],\n",
       "       [ 89,  14]])"
      ]
     },
     "execution_count": 202,
     "metadata": {},
     "output_type": "execute_result"
    }
   ],
   "source": [
    "c_mat"
   ]
  },
  {
   "cell_type": "code",
   "execution_count": 203,
   "metadata": {
    "collapsed": false
   },
   "outputs": [
    {
     "data": {
      "text/plain": [
       "0.5391653535302191"
      ]
     },
     "execution_count": 203,
     "metadata": {},
     "output_type": "execute_result"
    }
   ],
   "source": [
    "auc"
   ]
  },
  {
   "cell_type": "code",
   "execution_count": 204,
   "metadata": {
    "collapsed": true
   },
   "outputs": [],
   "source": [
    "#Combined\n",
    "pred, c_mat, auc=SVM_pipeline(np.concatenate([X1,X2],axis=1),Y, 0.7)"
   ]
  },
  {
   "cell_type": "code",
   "execution_count": 205,
   "metadata": {
    "collapsed": false
   },
   "outputs": [
    {
     "data": {
      "text/plain": [
       "array([[172,  19],\n",
       "       [ 83,  20]])"
      ]
     },
     "execution_count": 205,
     "metadata": {},
     "output_type": "execute_result"
    }
   ],
   "source": [
    "c_mat"
   ]
  },
  {
   "cell_type": "code",
   "execution_count": 206,
   "metadata": {
    "collapsed": false
   },
   "outputs": [
    {
     "data": {
      "text/plain": [
       "0.54734915874548873"
      ]
     },
     "execution_count": 206,
     "metadata": {},
     "output_type": "execute_result"
    }
   ],
   "source": [
    "auc"
   ]
  },
  {
   "cell_type": "code",
   "execution_count": null,
   "metadata": {
    "collapsed": true
   },
   "outputs": [],
   "source": []
  }
 ],
 "metadata": {
  "kernelspec": {
   "display_name": "Python 3",
   "language": "python",
   "name": "python3"
  },
  "language_info": {
   "codemirror_mode": {
    "name": "ipython",
    "version": 3
   },
   "file_extension": ".py",
   "mimetype": "text/x-python",
   "name": "python",
   "nbconvert_exporter": "python",
   "pygments_lexer": "ipython3",
   "version": "3.5.2"
  },
  "toc": {
   "colors": {
    "hover_highlight": "#DAA520",
    "running_highlight": "#FF0000",
    "selected_highlight": "#FFD700"
   },
   "moveMenuLeft": true,
   "nav_menu": {
    "height": "174px",
    "width": "252px"
   },
   "navigate_menu": true,
   "number_sections": true,
   "sideBar": true,
   "threshold": 4,
   "toc_cell": false,
   "toc_position": {
    "height": "532px",
    "left": "0px",
    "right": "1154px",
    "top": "106px",
    "width": "212px"
   },
   "toc_section_display": "block",
   "toc_window_display": true
  }
 },
 "nbformat": 4,
 "nbformat_minor": 0
}
