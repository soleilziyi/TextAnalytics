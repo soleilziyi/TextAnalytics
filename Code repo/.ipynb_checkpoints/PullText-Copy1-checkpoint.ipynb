{
 "cells": [
  {
   "cell_type": "code",
   "execution_count": 96,
   "metadata": {
    "collapsed": false,
    "scrolled": false
   },
   "outputs": [],
   "source": [
    "import pandas as pd\n",
    "import numpy as np\n",
    "#import html2text\n",
    "import random\n",
    "import os\n",
    "\n",
    "from urllib.request import urlopen  # the lib that handles the url stuff\n",
    "from bs4 import BeautifulSoup\n",
    "\n",
    "from __future__ import division\n",
    "import nltk, re, pprint\n",
    "\n"
   ]
  },
  {
   "cell_type": "code",
   "execution_count": 97,
   "metadata": {
    "collapsed": true
   },
   "outputs": [],
   "source": [
    "#Setup working directory \n",
    "os.chdir(\"C:/Users/ziyi/Desktop/Inde project/Independent Study Anseri-20170120T004329Z/Independent Study Anseri\")"
   ]
  },
  {
   "cell_type": "code",
   "execution_count": 138,
   "metadata": {
    "collapsed": false
   },
   "outputs": [
    {
     "name": "stderr",
     "output_type": "stream",
     "text": [
      "C:\\Users\\ziyi\\Anaconda3\\lib\\site-packages\\pandas\\core\\generic.py:2698: SettingWithCopyWarning: \n",
      "A value is trying to be set on a copy of a slice from a DataFrame.\n",
      "Try using .loc[row_indexer,col_indexer] = value instead\n",
      "\n",
      "See the caveats in the documentation: http://pandas.pydata.org/pandas-docs/stable/indexing.html#indexing-view-versus-copy\n",
      "  self[name] = value\n"
     ]
    }
   ],
   "source": [
    "MID_index=pd.read_excel(\"8K data/MID Index.xlsx\")\n",
    "MID_index.Ticker=MID_index.Ticker.apply(lambda x:x.split(\" \")[0])\n",
    "Tik_Name=MID_index[[\"Ticker\",\"Name\"]]\n",
    "Tik_Name.Name=Tik_Name.Name.apply(lambda x:x.upper())"
   ]
  },
  {
   "cell_type": "markdown",
   "metadata": {
    "collapsed": true
   },
   "source": [
    "#read SP Mid cap 400 stock list\n",
    "MIDCAP=pd.read_excel('8K data/SP midcap 400.xlsx')\n",
    "\n",
    "#randomly choose 40 stocks with news, from pool of 80 stocks\n",
    "random.seed(0)\n",
    "MIDCAP_40=MIDCAP.iloc[random.sample(range(0,MIDCAP.shape[0]),80)]\n",
    "MIDCAP_40.Name=MIDCAP_40.Name.apply(lambda x: x.upper())\n",
    "\n",
    "#read idx file\n",
    "DATA_READ_FROM = \"8K data/Index files\"\n",
    "FILE_LIST = []\n",
    "for (dirpath, dirnames, filenames) in walk(DATA_READ_FROM):\n",
    "    FILE_LIST.extend(filenames)\n"
   ]
  },
  {
   "cell_type": "markdown",
   "metadata": {
    "collapsed": false
   },
   "source": [
    "df=pd.DataFrame()\n",
    "for file in FILE_LIST: #read file by file\n",
    "    #parse table\n",
    "    idx = pd.read_table(DATA_READ_FROM+'/'+file, skiprows=4,sep='|')\n",
    "    idx=idx.iloc[1:,:]\n",
    "    \n",
    "    #select news for the 40 stocks\n",
    "    idx_midcap=idx[idx['Company Name'].apply(lambda x:x in MIDCAP_40.Name.tolist())]\n",
    "    df=df.append(idx_midcap)"
   ]
  },
  {
   "cell_type": "code",
   "execution_count": 72,
   "metadata": {
    "collapsed": true
   },
   "outputs": [
    {
     "data": {
      "text/plain": [
       "4             3848\n",
       "8-K            983\n",
       "SC 13G/A       377\n",
       "10-Q           210\n",
       "3              120\n",
       "4/A            111\n",
       "5              108\n",
       "SC 13G          91\n",
       "DEFA14A         78\n",
       "DEF 14A         77\n",
       "10-K            76\n",
       "UPLOAD          73\n",
       "425             65\n",
       "CORRESP         53\n",
       "11-K            48\n",
       "424B5           37\n",
       "ARS             28\n",
       "SD              28\n",
       "S-8             21\n",
       "SC 13D/A        19\n",
       "S-3ASR          18\n",
       "FWP             18\n",
       "13F-HR          14\n",
       "424B2           13\n",
       "8-K/A           13\n",
       "EFFECT          13\n",
       "424B3            9\n",
       "3/A              9\n",
       "S-8 POS          8\n",
       "POS AM           8\n",
       "              ... \n",
       "DFAN14A          4\n",
       "DEFM14A          3\n",
       "10-K/A           3\n",
       "DEFR14A          3\n",
       "NT 10-K          3\n",
       "144              3\n",
       "8-A12B           3\n",
       "13F-HR/A         3\n",
       "25               2\n",
       "POSASR           2\n",
       "IRANNOTICE       2\n",
       "PRRN14A          2\n",
       "10-Q/A           2\n",
       "PREM14A          2\n",
       "DEFC14A          2\n",
       "S-3              2\n",
       "5/A              1\n",
       "SC TO-I          1\n",
       "NT 10-Q          1\n",
       "CERTNYS          1\n",
       "D                1\n",
       "RW               1\n",
       "CT ORDER         1\n",
       "10-KT            1\n",
       "PREC14A          1\n",
       "NT 11-K          1\n",
       "SC TO-I/A        1\n",
       "CERTNAS          1\n",
       "DEL AM           1\n",
       "PX14A6G          1\n",
       "Name: Form Type, dtype: int64"
      ]
     },
     "execution_count": 72,
     "metadata": {},
     "output_type": "execute_result"
    }
   ],
   "source": [
    "df.to_csv('8K data/list_files.csv')\n",
    "MIDCAP_40.to_csv('8K data/list_40.csv')\n",
    "df['Form Type'].value_counts()"
   ]
  },
  {
   "cell_type": "code",
   "execution_count": 98,
   "metadata": {
    "collapsed": false
   },
   "outputs": [
    {
     "name": "stderr",
     "output_type": "stream",
     "text": [
      "C:\\Users\\ziyi\\Anaconda3\\lib\\site-packages\\ipykernel\\__main__.py:4: SettingWithCopyWarning: \n",
      "A value is trying to be set on a copy of a slice from a DataFrame.\n",
      "Try using .loc[row_indexer,col_indexer] = value instead\n",
      "\n",
      "See the caveats in the documentation: http://pandas.pydata.org/pandas-docs/stable/indexing.html#indexing-view-versus-copy\n"
     ]
    },
    {
     "data": {
      "text/plain": [
       "(1604, 7)"
      ]
     },
     "execution_count": 98,
     "metadata": {},
     "output_type": "execute_result"
    }
   ],
   "source": [
    "df=pd.read_csv('8K data/Tech_list_files.csv')\n",
    "#df2=df[df['Form Type'].apply(lambda x:x in ['4','8-K','SC 13G/A','10-K','10-Q'])]\n",
    "df2=df[df['Form Type']=='8-K']\n",
    "df2['Text']=pd.Series(index=df2.index)\n",
    "df2.shape"
   ]
  },
  {
   "cell_type": "code",
   "execution_count": 99,
   "metadata": {
    "collapsed": true
   },
   "outputs": [
    {
     "name": "stderr",
     "output_type": "stream",
     "text": [
      "C:\\Users\\ziyi\\Anaconda3\\lib\\site-packages\\pandas\\core\\indexing.py:461: SettingWithCopyWarning: \n",
      "A value is trying to be set on a copy of a slice from a DataFrame.\n",
      "Try using .loc[row_indexer,col_indexer] = value instead\n",
      "\n",
      "See the caveats in the documentation: http://pandas.pydata.org/pandas-docs/stable/indexing.html#indexing-view-versus-copy\n",
      "  self.obj[item] = s\n"
     ]
    },
    {
     "name": "stdout",
     "output_type": "stream",
     "text": [
      "0 1604\n",
      "100 1604\n",
      "200 1604\n",
      "300 1604\n",
      "400 1604\n",
      "500 1604\n",
      "600 1604\n",
      "700 1604\n",
      "800 1604\n",
      "900 1604\n",
      "1000 1604\n",
      "1100 1604\n",
      "1200 1604\n",
      "1300 1604\n",
      "1400 1604\n",
      "1500 1604\n",
      "1600 1604\n"
     ]
    }
   ],
   "source": [
    "counter=0\n",
    "for x, row in df2.iterrows():\n",
    "    try:\n",
    "        data = urlopen('http://www.sec.gov/Archives/'+row['Filename']).read()\n",
    "        soup=BeautifulSoup(data, 'html.parser')\n",
    "        if(row['Form Type']=='4'):\n",
    "            df2.loc[x,'Text']=soup.footnotes.get_text()\n",
    "        elif(row['Form Type']=='8-K'):\n",
    "            text=soup.body.get_text()\n",
    "            beg=text.upper().find('ITEM',1)\n",
    "            end=text.upper().find('SIGNATURE',1)\n",
    "            df2.loc[x,'Text']=text[beg:end]\n",
    "        elif(row['Form Type']=='SC 13G/A'):\n",
    "            df2.loc[x,'Text']==soup.document.get_text()\n",
    "        elif(row['Form Type']=='10-K' or row['Form Type']=='10-Q'):\n",
    "            text=soup.body.get_text()\n",
    "            beg=text.upper().find('MANAGEMENT’S DISCUSSION AND ANALYSIS OF FINANCIAL CONDITION AND RESULTS OF OPERATIONS',10000)\n",
    "            end=text.upper().find('QUANTITATIVE AND QUALITATIVE DISCLOSURES ABOUT MARKET RISK',10000)\n",
    "            df2.loc[x,'Text']=text[beg:end]\n",
    "        else:\n",
    "            continue    \n",
    "\n",
    "    except:\n",
    "        pass\n",
    "    \n",
    "    if (counter%100==0):\n",
    "        print (counter, df2.shape[0]) \n",
    "    counter+=1"
   ]
  },
  {
   "cell_type": "code",
   "execution_count": 103,
   "metadata": {
    "collapsed": false
   },
   "outputs": [
    {
     "name": "stderr",
     "output_type": "stream",
     "text": [
      "C:\\Users\\ziyi\\Anaconda3\\lib\\site-packages\\pandas\\core\\generic.py:2698: SettingWithCopyWarning: \n",
      "A value is trying to be set on a copy of a slice from a DataFrame.\n",
      "Try using .loc[row_indexer,col_indexer] = value instead\n",
      "\n",
      "See the caveats in the documentation: http://pandas.pydata.org/pandas-docs/stable/indexing.html#indexing-view-versus-copy\n",
      "  self[name] = value\n"
     ]
    }
   ],
   "source": [
    "index=df2.index\n",
    "\n",
    "df2.Text=df2.Text.astype(str)\n",
    "df2.Text=df2.Text.apply(lambda x:x.upper())\n",
    "df2.Text=df2.Text.apply(lambda x:x.replace('\\xa0',' '))\n",
    "\n",
    "#Add Ticker column\n",
    "df2=df2.merge(Tik_Name,how=\"left\",left_on=\"Company Name\",right_on=\"Name\")\n",
    "df2.index=index\n",
    "df2=df2.drop([\"Name\"],axis=1)\n"
   ]
  },
  {
   "cell_type": "code",
   "execution_count": 155,
   "metadata": {
    "collapsed": false
   },
   "outputs": [
    {
     "data": {
      "text/plain": [
       "[7209, 8325, 8326, 8327, 8328, 9217, 9218, 9219, 9220, 9221, 9222]"
      ]
     },
     "execution_count": 155,
     "metadata": {},
     "output_type": "execute_result"
    }
   ],
   "source": [
    "#Drop Companies without price information\n",
    "to_drop=[\"VERSUM MATERIALS INC\",\"KEYSIGHT TECHNOLOGIES INC\",'CDK GLOBAL INC',\n",
    "         'KNOWLES CORP','SCIENCE APPLICATIONS INTERNATIONAL CORP']\n",
    "\n",
    "to_drop_index=[]\n",
    "for i,row in df2.iterrows():\n",
    "    if row[\"Company Name\"] in to_drop:\n",
    "        to_drop_index.append(i)\n",
    "to_drop_index"
   ]
  },
  {
   "cell_type": "code",
   "execution_count": 157,
   "metadata": {
    "collapsed": false
   },
   "outputs": [],
   "source": [
    "df2=df2.drop(to_drop_index)"
   ]
  },
  {
   "cell_type": "code",
   "execution_count": 159,
   "metadata": {
    "collapsed": true
   },
   "outputs": [],
   "source": [
    "df2.to_excel('8K data/8K_Info.xlsx')"
   ]
  },
  {
   "cell_type": "markdown",
   "metadata": {},
   "source": [
    "## Convert 8-K full data to Item body data & Concatenate 8-K datasets"
   ]
  },
  {
   "cell_type": "markdown",
   "metadata": {
    "collapsed": true
   },
   "source": [
    "df=pd.read_excel('8K data/8K-2.xlsx')"
   ]
  },
  {
   "cell_type": "markdown",
   "metadata": {},
   "source": [
    "df2=df.copy()\n",
    "df2.head()"
   ]
  },
  {
   "cell_type": "markdown",
   "metadata": {},
   "source": [
    "def get_text(text):\n",
    "    text=text.upper()\n",
    "    beg_match=re.search(\"ITEM\",text)\n",
    "    beg=beg_match.start()\n",
    "    try:\n",
    "        end_match=re.search(\"SIGNATURE\",text)\n",
    "        end=end_match.start()\n",
    "    except:\n",
    "        end_match=re.search(\"SIGNATURES\",text)\n",
    "        end=end_match.start()\n",
    "    return(text[beg:end])"
   ]
  },
  {
   "cell_type": "markdown",
   "metadata": {},
   "source": [
    "to_clean=[]\n",
    "for i in range(0,df2.shape[0]):\n",
    "    try: \n",
    "        df2.iloc[i,6]=get_text(df.iloc[i,6])\n",
    "    except:\n",
    "        print(i)\n",
    "        df2.iloc[i,6]=np.nan"
   ]
  },
  {
   "cell_type": "markdown",
   "metadata": {},
   "source": [
    "df2=df2.dropna()"
   ]
  },
  {
   "cell_type": "markdown",
   "metadata": {},
   "source": [
    "df2.Text=df2.Text.apply(lambda x:x.replace('\\xa0',' '))\n",
    "df2.to_excel('8K data/8K2_new.xlsx')"
   ]
  },
  {
   "cell_type": "markdown",
   "metadata": {},
   "source": [
    "df3=pd.read_excel('8K data/8K_new.xlsx')"
   ]
  },
  {
   "cell_type": "markdown",
   "metadata": {},
   "source": [
    "df=pd.concat([df2,df3])\n",
    "df.to_excel('8K data/8K_total.xlsx')"
   ]
  }
 ],
 "metadata": {
  "kernelspec": {
   "display_name": "Python 3",
   "language": "python",
   "name": "python3"
  },
  "language_info": {
   "codemirror_mode": {
    "name": "ipython",
    "version": 3
   },
   "file_extension": ".py",
   "mimetype": "text/x-python",
   "name": "python",
   "nbconvert_exporter": "python",
   "pygments_lexer": "ipython3",
   "version": "3.5.2"
  }
 },
 "nbformat": 4,
 "nbformat_minor": 0
}
