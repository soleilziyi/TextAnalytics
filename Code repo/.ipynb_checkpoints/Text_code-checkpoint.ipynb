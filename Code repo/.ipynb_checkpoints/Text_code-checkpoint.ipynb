{
 "cells": [
  {
   "cell_type": "code",
   "execution_count": 1,
   "metadata": {
    "collapsed": false
   },
   "outputs": [
    {
     "name": "stderr",
     "output_type": "stream",
     "text": [
      "C:\\Users\\ziyi\\Anaconda3\\lib\\site-packages\\pandas\\io\\data.py:35: FutureWarning: \n",
      "The pandas.io.data module is moved to a separate package (pandas-datareader) and will be removed from pandas in a future version.\n",
      "After installing the pandas-datareader package (https://github.com/pydata/pandas-datareader), you can change the import ``from pandas.io import data, wb`` to ``from pandas_datareader import data, wb``.\n",
      "  FutureWarning)\n"
     ]
    }
   ],
   "source": [
    "from __future__ import division\n",
    "\n",
    "import pandas as pd\n",
    "import numpy as np\n",
    "#import html2text\n",
    "from datetime import date\n",
    "import random\n",
    "from os import walk\n",
    "import os\n",
    "\n",
    "#Packages for pulling text data \n",
    "from urllib.request import urlopen  # the lib that handles the url stuff\n",
    "from bs4 import BeautifulSoup\n",
    "import pandas.io.data as web\n",
    "from pandas.tseries.offsets import BDay\n",
    "\n",
    "#Packages for text data processing\n",
    "import nltk, re, pprint\n",
    "#nltk.download()\n",
    "from nltk.corpus import stopwords\n",
    "from nltk.probability import FreqDist\n",
    "from nltk.stem import PorterStemmer\n",
    "\n",
    "#Packages for statistical learning \n",
    "from sklearn.preprocessing import normalize as Normal\n",
    "from sklearn import svm\n",
    "from sklearn.svm import SVR\n",
    "from sklearn.model_selection import GridSearchCV\n",
    "from sklearn.model_selection import StratifiedKFold\n",
    "from sklearn.model_selection import KFold\n",
    "from sklearn.feature_extraction.text import CountVectorizer\n",
    "from sklearn.feature_extraction.text import TfidfTransformer\n",
    "from sklearn.metrics import confusion_matrix\n",
    "from sklearn.metrics import roc_auc_score\n",
    "import statsmodels.api as sm\n",
    "from sklearn import linear_model\n",
    "\n",
    "import matplotlib.pyplot as plt\n",
    "%matplotlib inline\n",
    "\n",
    "import imp\n",
    "\n",
    "import Text_Analytics as TA"
   ]
  },
  {
   "cell_type": "code",
   "execution_count": 2,
   "metadata": {
    "collapsed": false
   },
   "outputs": [],
   "source": [
    "#Setup working directory \n",
    "os.chdir(\"C:/Users/ziyi/Documents/Inde project/Independent Study Anseri-20170120T004329Z/Independent Study Anseri\")\n",
    "    \n",
    "MIDCAP=pd.read_excel('8K data/MID Index.xlsx')"
   ]
  },
  {
   "cell_type": "code",
   "execution_count": 3,
   "metadata": {
    "collapsed": false
   },
   "outputs": [],
   "source": [
    "MIDCAP.columns=['Ticker', 'Name', 'Market Cap', 'GICS Sector']"
   ]
  },
  {
   "cell_type": "code",
   "execution_count": 4,
   "metadata": {
    "collapsed": false
   },
   "outputs": [],
   "source": [
    "sector_count=MIDCAP['GICS Sector'].value_counts()\n",
    "sector_count=pd.DataFrame(sector_count)"
   ]
  },
  {
   "cell_type": "code",
   "execution_count": 5,
   "metadata": {
    "collapsed": false
   },
   "outputs": [
    {
     "data": {
      "text/html": [
       "<div>\n",
       "<table border=\"1\" class=\"dataframe\">\n",
       "  <thead>\n",
       "    <tr style=\"text-align: right;\">\n",
       "      <th></th>\n",
       "      <th>GICS Sector</th>\n",
       "    </tr>\n",
       "  </thead>\n",
       "  <tbody>\n",
       "    <tr>\n",
       "      <th>Information Technology</th>\n",
       "      <td>67</td>\n",
       "    </tr>\n",
       "    <tr>\n",
       "      <th>Financials</th>\n",
       "      <td>60</td>\n",
       "    </tr>\n",
       "    <tr>\n",
       "      <th>Consumer Discretionary</th>\n",
       "      <td>60</td>\n",
       "    </tr>\n",
       "    <tr>\n",
       "      <th>Industrials</th>\n",
       "      <td>58</td>\n",
       "    </tr>\n",
       "    <tr>\n",
       "      <th>Real Estate</th>\n",
       "      <td>39</td>\n",
       "    </tr>\n",
       "    <tr>\n",
       "      <th>Materials</th>\n",
       "      <td>30</td>\n",
       "    </tr>\n",
       "    <tr>\n",
       "      <th>Health Care</th>\n",
       "      <td>29</td>\n",
       "    </tr>\n",
       "    <tr>\n",
       "      <th>Energy</th>\n",
       "      <td>20</td>\n",
       "    </tr>\n",
       "    <tr>\n",
       "      <th>Consumer Staples</th>\n",
       "      <td>18</td>\n",
       "    </tr>\n",
       "    <tr>\n",
       "      <th>Utilities</th>\n",
       "      <td>18</td>\n",
       "    </tr>\n",
       "    <tr>\n",
       "      <th>Telecommunication Services</th>\n",
       "      <td>1</td>\n",
       "    </tr>\n",
       "  </tbody>\n",
       "</table>\n",
       "</div>"
      ],
      "text/plain": [
       "                            GICS Sector\n",
       "Information Technology               67\n",
       "Financials                           60\n",
       "Consumer Discretionary               60\n",
       "Industrials                          58\n",
       "Real Estate                          39\n",
       "Materials                            30\n",
       "Health Care                          29\n",
       "Energy                               20\n",
       "Consumer Staples                     18\n",
       "Utilities                            18\n",
       "Telecommunication Services            1"
      ]
     },
     "execution_count": 5,
     "metadata": {},
     "output_type": "execute_result"
    }
   ],
   "source": [
    "sector_count"
   ]
  },
  {
   "cell_type": "markdown",
   "metadata": {},
   "source": [
    "## Part I: Pull Text (8K) and Price data from the web - 01/01/2013-31/12/2016"
   ]
  },
  {
   "cell_type": "markdown",
   "metadata": {
    "collapsed": true
   },
   "source": [
    "for x in sector_count.index:\n",
    "    \n",
    "    print(x)\n",
    "    \n",
    "    MIDCAP_40=MIDCAP[MIDCAP['GICS Sector']==x]\n",
    "    MIDCAP_40.Name=MIDCAP_40.Name.apply(lambda x: x.upper())\n",
    "    \n",
    "    #Pull 8K text data from SEC\n",
    "    df=pd.DataFrame()\n",
    "    \n",
    "    DATA_READ_FROM = \"8K data/Index_Files/Part1\"\n",
    "    FILE_LIST = []\n",
    "    for (dirpath, dirnames, filenames) in walk(DATA_READ_FROM):\n",
    "        FILE_LIST.extend(filenames)\n",
    "    for file in FILE_LIST: #read file by file\n",
    "        #parse table\n",
    "        idx = pd.read_table(DATA_READ_FROM+'/'+file, skiprows=4,sep='|')\n",
    "        idx=idx.iloc[1:,:]\n",
    "        #select news for the 40 stocks\n",
    "        idx_midcap=idx[idx['Company Name'].apply(lambda x:x in MIDCAP_40.Name.tolist())]\n",
    "        df=df.append(idx_midcap)\n",
    "\n",
    "    DATA_READ_FROM = \"8K data/Index_Files/Part2\"\n",
    "    FILE_LIST = []\n",
    "    for (dirpath, dirnames, filenames) in walk(DATA_READ_FROM):\n",
    "        FILE_LIST.extend(filenames)\n",
    "\n",
    "    for file in FILE_LIST: #read file by file\n",
    "        #parse table\n",
    "        idx = pd.read_table(DATA_READ_FROM+'/'+file, skiprows=5,sep='|')\n",
    "        idx=idx.iloc[1:,:]\n",
    "        #select news for the 40 stocks\n",
    "        idx_midcap=idx[idx['Company Name'].apply(lambda x:x in MIDCAP_40.Name.tolist())]\n",
    "        df=df.append(idx_midcap)\n",
    "\n",
    "    df=df[df['Form Type']=='8-K']\n",
    "    df['Text']=pd.Series(index=df.index)\n",
    "    df.shape\n",
    "\n",
    "    output=\"8K data/MID_Sectors/Input/\"+x+\"_list_files.csv\"\n",
    "    df.to_csv(output)\n",
    "    \n",
    "    #Pull stock price data from Yahoo or Google \n",
    "    Start=pd.to_datetime('2013-01-01',format='%Y-%M-%d')\n",
    "    End=pd.to_datetime('2017-01-31',format='%Y-%M-%d')\n",
    "\n",
    "    Database=pd.DataFrame()\n",
    "    for ticker in MIDCAP_40.Ticker.tolist():\n",
    "        ticker=ticker.split(' ')[0]\n",
    "        print(ticker)\n",
    "        try:\n",
    "            price = web.DataReader(ticker, 'yahoo',Start ,End)['Close']\n",
    "            price.name=ticker\n",
    "            Database[ticker]=price\n",
    "        except:\n",
    "            try:\n",
    "                price = web.DataReader(ticker,'google', Start ,End)['Close']\n",
    "                price.name=ticker\n",
    "                Database[ticker]=price\n",
    "            except:\n",
    "                pass\n",
    "            \n",
    "    output_price=\"8K data/MID_Sectors/Input/\"+x+\"_Price.csv\"\n",
    "    Database.drop(Database.columns[np.isnan(Database).sum()>0],axis=1).to_csv(output_price)"
   ]
  },
  {
   "cell_type": "code",
   "execution_count": 6,
   "metadata": {
    "collapsed": false
   },
   "outputs": [
    {
     "name": "stderr",
     "output_type": "stream",
     "text": [
      "C:\\Users\\ziyi\\Anaconda3\\lib\\site-packages\\pandas\\core\\generic.py:2698: SettingWithCopyWarning: \n",
      "A value is trying to be set on a copy of a slice from a DataFrame.\n",
      "Try using .loc[row_indexer,col_indexer] = value instead\n",
      "\n",
      "See the caveats in the documentation: http://pandas.pydata.org/pandas-docs/stable/indexing.html#indexing-view-versus-copy\n",
      "  self[name] = value\n"
     ]
    }
   ],
   "source": [
    "MIDCAP.Ticker=MIDCAP.Ticker.apply(lambda x:x.split(\" \")[0])\n",
    "Tik_Name=MIDCAP[[\"Ticker\",\"Name\"]]\n",
    "Tik_Name.Name=Tik_Name.Name.apply(lambda x:x.upper())"
   ]
  },
  {
   "cell_type": "code",
   "execution_count": 7,
   "metadata": {
    "collapsed": false
   },
   "outputs": [
    {
     "data": {
      "text/plain": [
       "Index(['Information Technology', 'Financials', 'Consumer Discretionary',\n",
       "       'Industrials', 'Real Estate', 'Materials', 'Health Care', 'Energy',\n",
       "       'Consumer Staples', 'Utilities', 'Telecommunication Services'],\n",
       "      dtype='object')"
      ]
     },
     "execution_count": 7,
     "metadata": {},
     "output_type": "execute_result"
    }
   ],
   "source": [
    "sector_count.index"
   ]
  },
  {
   "cell_type": "markdown",
   "metadata": {},
   "source": [
    "## Part II: Extract Event Text from 8K Data"
   ]
  },
  {
   "cell_type": "markdown",
   "metadata": {
    "collapsed": false,
    "scrolled": true
   },
   "source": [
    "for y in sector_count.index[10:]:\n",
    "    \n",
    "    print(y)\n",
    "    df=pd.read_csv(\"8K data/MID_Sectors/Input/\"+y+\"_list_files.csv\",index_col=0)\n",
    "    \n",
    "    counter=0\n",
    "    for x, row in df.iterrows():\n",
    "        try:\n",
    "            data = urlopen('http://www.sec.gov/Archives/'+row['Filename']).read()\n",
    "            soup=BeautifulSoup(data, 'html.parser')\n",
    "            if(row['Form Type']=='4'):\n",
    "                df.loc[x,'Text']=soup.footnotes.get_text()\n",
    "            elif(row['Form Type']=='8-K'):\n",
    "                text=soup.body.get_text()\n",
    "                beg=text.upper().find('ITEM',1)\n",
    "                end=text.upper().find('SIGNATURE',1)\n",
    "                df.loc[x,'Text']=text[beg:end]\n",
    "            elif(row['Form Type']=='SC 13G/A'):\n",
    "                df.loc[x,'Text']==soup.document.get_text()\n",
    "            elif(row['Form Type']=='10-K' or row['Form Type']=='10-Q'):\n",
    "                text=soup.body.get_text()\n",
    "                beg=text.upper().find('MANAGEMENT’S DISCUSSION AND ANALYSIS OF FINANCIAL CONDITION AND RESULTS OF OPERATIONS',10000)\n",
    "                end=text.upper().find('QUANTITATIVE AND QUALITATIVE DISCLOSURES ABOUT MARKET RISK',10000)\n",
    "                df.loc[x,'Text']=text[beg:end]\n",
    "            else:\n",
    "                continue    \n",
    "\n",
    "        except:\n",
    "            pass\n",
    "\n",
    "        if (counter%100==0):\n",
    "            print (counter, df.shape[0]) \n",
    "        counter+=1\n",
    "        \n",
    "    index=df.index\n",
    "\n",
    "    df.Text=df.Text.astype(str)\n",
    "    df.Text=df.Text.apply(lambda x:x.upper())\n",
    "    df.Text=df.Text.apply(lambda x:x.replace('\\xa0',' '))\n",
    "\n",
    "    #Add Ticker column\n",
    "    df=df.merge(Tik_Name,how=\"left\",left_on=\"Company Name\",right_on=\"Name\")\n",
    "    df.index=index\n",
    "    df=df.drop([\"Name\"],axis=1)\n",
    "    \n",
    "    output=\"8K data/MID_Sectors/Input/\"+y+\"_text.csv\"\n",
    "    df.to_csv(output,encoding = 'utf-8' )\n",
    "    "
   ]
  },
  {
   "cell_type": "markdown",
   "metadata": {},
   "source": [
    "## Part III: Get Event List TS for Each Sector"
   ]
  },
  {
   "cell_type": "code",
   "execution_count": 8,
   "metadata": {
    "collapsed": true
   },
   "outputs": [],
   "source": [
    "events_list=(\"ITEM 1.01\",\"ITEM 1.02\",\"ITEM 1.03\",\"ITEM 1.04\",\n",
    "             \"ITEM 2.01\",\"ITEM 2.02\",\"ITEM 2.03\",\"ITEM 2.04\",\"ITEM 2.05\",\"ITEM 2.06\",\n",
    "             \"ITEM 3.01\",\"ITEM 3.02\",\"ITEM 3.03\",\n",
    "             \"ITEM 4.01\",\"ITEM 4.02\",\n",
    "             \"ITEM 5.01\",\"ITEM 5.02\",\"ITEM 5.03\",\"ITEM 5.04\",\"ITEM 5.05\",\"ITEM 5.06\",\"ITEM 5.07\",\"ITEM 5.08\",\n",
    "             \"ITEM 6.01\",\"ITEM 6.02\",\"ITEM 6.03\",\"ITEM 6.04\",\"ITEM 6.05\",\n",
    "             \"ITEM 7.01\",\n",
    "             \"ITEM 8.01\",\n",
    "             \"ITEM 9.01\"            \n",
    "            )\n",
    "\n",
    "#Time Range under study\n",
    "Time_range=pd.date_range(\"2013-01-01\",\"2016-12-31\",freq=\"D\")"
   ]
  },
  {
   "cell_type": "code",
   "execution_count": 10,
   "metadata": {
    "collapsed": true
   },
   "outputs": [
    {
     "name": "stdout",
     "output_type": "stream",
     "text": [
      "Information Technology\n"
     ]
    },
    {
     "name": "stderr",
     "output_type": "stream",
     "text": [
      "C:\\Users\\ziyi\\Anaconda3\\lib\\site-packages\\ipykernel\\__main__.py:6: SettingWithCopyWarning: \n",
      "A value is trying to be set on a copy of a slice from a DataFrame.\n",
      "Try using .loc[row_indexer,col_indexer] = value instead\n",
      "\n",
      "See the caveats in the documentation: http://pandas.pydata.org/pandas-docs/stable/indexing.html#indexing-view-versus-copy\n",
      "C:\\Users\\ziyi\\Anaconda3\\lib\\site-packages\\ipykernel\\__main__.py:7: SettingWithCopyWarning: \n",
      "A value is trying to be set on a copy of a slice from a DataFrame.\n",
      "Try using .loc[row_indexer,col_indexer] = value instead\n",
      "\n",
      "See the caveats in the documentation: http://pandas.pydata.org/pandas-docs/stable/indexing.html#indexing-view-versus-copy\n"
     ]
    },
    {
     "name": "stdout",
     "output_type": "stream",
     "text": [
      "Financials\n",
      "Consumer Discretionary\n",
      "Industrials\n",
      "Real Estate\n",
      "Materials\n",
      "Health Care\n",
      "Energy\n",
      "Consumer Staples\n",
      "Utilities\n",
      "Telecommunication Services\n"
     ]
    },
    {
     "ename": "ValueError",
     "evalue": "labels ['CIK'] not contained in axis",
     "output_type": "error",
     "traceback": [
      "\u001b[1;31m---------------------------------------------------------------------------\u001b[0m",
      "\u001b[1;31mValueError\u001b[0m                                Traceback (most recent call last)",
      "\u001b[1;32m<ipython-input-10-7438bd3f0b58>\u001b[0m in \u001b[0;36m<module>\u001b[1;34m()\u001b[0m\n\u001b[0;32m      8\u001b[0m \u001b[1;33m\u001b[0m\u001b[0m\n\u001b[0;32m      9\u001b[0m     \u001b[0mEvents_df\u001b[0m\u001b[1;33m=\u001b[0m\u001b[0mTA\u001b[0m\u001b[1;33m.\u001b[0m\u001b[0mDoc_Events\u001b[0m\u001b[1;33m(\u001b[0m\u001b[0mdf\u001b[0m\u001b[1;33m,\u001b[0m\u001b[0mevents_list\u001b[0m\u001b[1;33m)\u001b[0m\u001b[1;33m\u001b[0m\u001b[0m\n\u001b[1;32m---> 10\u001b[1;33m     \u001b[0mEvents_ts\u001b[0m\u001b[1;33m=\u001b[0m\u001b[0mTA\u001b[0m\u001b[1;33m.\u001b[0m\u001b[0mIndex_Events\u001b[0m\u001b[1;33m(\u001b[0m\u001b[0mEvents_df\u001b[0m\u001b[1;33m,\u001b[0m\u001b[0mIndex\u001b[0m\u001b[1;33m,\u001b[0m\u001b[0mTime_range\u001b[0m\u001b[1;33m)\u001b[0m\u001b[1;33m\u001b[0m\u001b[0m\n\u001b[0m\u001b[0;32m     11\u001b[0m \u001b[1;33m\u001b[0m\u001b[0m\n\u001b[0;32m     12\u001b[0m     \u001b[0mIndex\u001b[0m\u001b[1;33m.\u001b[0m\u001b[0mto_csv\u001b[0m\u001b[1;33m(\u001b[0m\u001b[1;34m\"8K data/MID_sectors/Input/\"\u001b[0m\u001b[1;33m+\u001b[0m\u001b[0mx\u001b[0m\u001b[1;33m+\u001b[0m\u001b[1;34m\"_index.csv\"\u001b[0m\u001b[1;33m)\u001b[0m\u001b[1;33m\u001b[0m\u001b[0m\n",
      "\u001b[1;32mC:\\Users\\ziyi\\Documents\\Inde project\\Independent Study Anseri-20170120T004329Z\\Independent Study Anseri\\Code repo\\Text_Analytics.py\u001b[0m in \u001b[0;36mIndex_Events\u001b[1;34m(Events_df, Index, Time_range)\u001b[0m\n\u001b[0;32m    101\u001b[0m \u001b[1;33m\u001b[0m\u001b[0m\n\u001b[0;32m    102\u001b[0m     \u001b[0mTemp\u001b[0m\u001b[1;33m=\u001b[0m\u001b[0mTemp\u001b[0m\u001b[1;33m.\u001b[0m\u001b[0mgroupby\u001b[0m\u001b[1;33m(\u001b[0m\u001b[1;34m\"Date Filed\"\u001b[0m\u001b[1;33m)\u001b[0m\u001b[1;33m.\u001b[0m\u001b[0msum\u001b[0m\u001b[1;33m(\u001b[0m\u001b[1;33m)\u001b[0m\u001b[1;33m\u001b[0m\u001b[0m\n\u001b[1;32m--> 103\u001b[1;33m     \u001b[0mTemp\u001b[0m\u001b[1;33m=\u001b[0m\u001b[0mTemp\u001b[0m\u001b[1;33m.\u001b[0m\u001b[0mdrop\u001b[0m\u001b[1;33m(\u001b[0m\u001b[1;34m\"CIK\"\u001b[0m\u001b[1;33m,\u001b[0m\u001b[0maxis\u001b[0m\u001b[1;33m=\u001b[0m\u001b[1;36m1\u001b[0m\u001b[1;33m)\u001b[0m\u001b[1;33m\u001b[0m\u001b[0m\n\u001b[0m\u001b[0;32m    104\u001b[0m \u001b[1;33m\u001b[0m\u001b[0m\n\u001b[0;32m    105\u001b[0m     \u001b[0mTime_temp\u001b[0m\u001b[1;33m=\u001b[0m\u001b[0mpd\u001b[0m\u001b[1;33m.\u001b[0m\u001b[0mDataFrame\u001b[0m\u001b[1;33m(\u001b[0m\u001b[0mindex\u001b[0m\u001b[1;33m=\u001b[0m\u001b[0mTime_range\u001b[0m\u001b[1;33m)\u001b[0m\u001b[1;33m\u001b[0m\u001b[0m\n",
      "\u001b[1;32mC:\\Users\\ziyi\\Anaconda3\\lib\\site-packages\\pandas\\core\\generic.py\u001b[0m in \u001b[0;36mdrop\u001b[1;34m(self, labels, axis, level, inplace, errors)\u001b[0m\n\u001b[0;32m   1871\u001b[0m                 \u001b[0mnew_axis\u001b[0m \u001b[1;33m=\u001b[0m \u001b[0maxis\u001b[0m\u001b[1;33m.\u001b[0m\u001b[0mdrop\u001b[0m\u001b[1;33m(\u001b[0m\u001b[0mlabels\u001b[0m\u001b[1;33m,\u001b[0m \u001b[0mlevel\u001b[0m\u001b[1;33m=\u001b[0m\u001b[0mlevel\u001b[0m\u001b[1;33m,\u001b[0m \u001b[0merrors\u001b[0m\u001b[1;33m=\u001b[0m\u001b[0merrors\u001b[0m\u001b[1;33m)\u001b[0m\u001b[1;33m\u001b[0m\u001b[0m\n\u001b[0;32m   1872\u001b[0m             \u001b[1;32melse\u001b[0m\u001b[1;33m:\u001b[0m\u001b[1;33m\u001b[0m\u001b[0m\n\u001b[1;32m-> 1873\u001b[1;33m                 \u001b[0mnew_axis\u001b[0m \u001b[1;33m=\u001b[0m \u001b[0maxis\u001b[0m\u001b[1;33m.\u001b[0m\u001b[0mdrop\u001b[0m\u001b[1;33m(\u001b[0m\u001b[0mlabels\u001b[0m\u001b[1;33m,\u001b[0m \u001b[0merrors\u001b[0m\u001b[1;33m=\u001b[0m\u001b[0merrors\u001b[0m\u001b[1;33m)\u001b[0m\u001b[1;33m\u001b[0m\u001b[0m\n\u001b[0m\u001b[0;32m   1874\u001b[0m             \u001b[0mdropped\u001b[0m \u001b[1;33m=\u001b[0m \u001b[0mself\u001b[0m\u001b[1;33m.\u001b[0m\u001b[0mreindex\u001b[0m\u001b[1;33m(\u001b[0m\u001b[1;33m**\u001b[0m\u001b[1;33m{\u001b[0m\u001b[0maxis_name\u001b[0m\u001b[1;33m:\u001b[0m \u001b[0mnew_axis\u001b[0m\u001b[1;33m}\u001b[0m\u001b[1;33m)\u001b[0m\u001b[1;33m\u001b[0m\u001b[0m\n\u001b[0;32m   1875\u001b[0m             \u001b[1;32mtry\u001b[0m\u001b[1;33m:\u001b[0m\u001b[1;33m\u001b[0m\u001b[0m\n",
      "\u001b[1;32mC:\\Users\\ziyi\\Anaconda3\\lib\\site-packages\\pandas\\indexes\\base.py\u001b[0m in \u001b[0;36mdrop\u001b[1;34m(self, labels, errors)\u001b[0m\n\u001b[0;32m   2964\u001b[0m             \u001b[1;32mif\u001b[0m \u001b[0merrors\u001b[0m \u001b[1;33m!=\u001b[0m \u001b[1;34m'ignore'\u001b[0m\u001b[1;33m:\u001b[0m\u001b[1;33m\u001b[0m\u001b[0m\n\u001b[0;32m   2965\u001b[0m                 raise ValueError('labels %s not contained in axis' %\n\u001b[1;32m-> 2966\u001b[1;33m                                  labels[mask])\n\u001b[0m\u001b[0;32m   2967\u001b[0m             \u001b[0mindexer\u001b[0m \u001b[1;33m=\u001b[0m \u001b[0mindexer\u001b[0m\u001b[1;33m[\u001b[0m\u001b[1;33m~\u001b[0m\u001b[0mmask\u001b[0m\u001b[1;33m]\u001b[0m\u001b[1;33m\u001b[0m\u001b[0m\n\u001b[0;32m   2968\u001b[0m         \u001b[1;32mreturn\u001b[0m \u001b[0mself\u001b[0m\u001b[1;33m.\u001b[0m\u001b[0mdelete\u001b[0m\u001b[1;33m(\u001b[0m\u001b[0mindexer\u001b[0m\u001b[1;33m)\u001b[0m\u001b[1;33m\u001b[0m\u001b[0m\n",
      "\u001b[1;31mValueError\u001b[0m: labels ['CIK'] not contained in axis"
     ]
    }
   ],
   "source": [
    "for x in sector_count.index:\n",
    "    print(x)\n",
    "    \n",
    "    df=pd.read_csv(\"8K data/MID_Sectors/Input/\"+x+\"_text.csv\",index_col=0,encoding=\"utf-8\")\n",
    "    Index=MIDCAP[MIDCAP['GICS Sector']==x]\n",
    "    Index[\"Weight\"]=Index[\"Market Cap\"]/sum(Index[\"Market Cap\"])\n",
    "    Index[\"Name\"]=Index[\"Name\"].apply(lambda x:x.upper())\n",
    "    \n",
    "    Events_df=TA.Doc_Events(df,events_list)\n",
    "    Events_ts=TA.Index_Events(Events_df,Index,Time_range)\n",
    "    \n",
    "    Index.to_csv(\"8K data/MID_sectors/Input/\"+x+\"_index.csv\")\n",
    "    Events_df.to_csv(\"8K data/MID_sectors/Input/\"+x+\"_events.csv\")\n",
    "    Events_ts.to_csv(\"8K data/MID_Sectors/Input/\"+x+\"_ts_events.csv\")"
   ]
  },
  {
   "cell_type": "markdown",
   "metadata": {},
   "source": [
    "## Part IV: Extract Event Text "
   ]
  },
  {
   "cell_type": "code",
   "execution_count": 102,
   "metadata": {
    "collapsed": true
   },
   "outputs": [],
   "source": [
    "#Setup Item Parameters \n",
    "Item=\"1.02\"\n",
    "item=\"ITEM\"+\" \"+Item\n",
    "\n",
    "#Setup Output Parameters\n",
    "itemb=\"102\"\n",
    "add1='8K Data/Output/tfidf_ITEM'+itemb+\".csv\"\n",
    "add2='8K Data/Output/keyword_ITEM'+itemb+\".csv\"\n",
    "add3='8K Data/Output/SPCA_ITEM'+itemb+'.csv'\n",
    "add4='8K Data/Output/Dict_ITEM'+itemb+'.csv'"
   ]
  },
  {
   "cell_type": "code",
   "execution_count": 103,
   "metadata": {
    "collapsed": false
   },
   "outputs": [
    {
     "name": "stdout",
     "output_type": "stream",
     "text": [
      "Information Technology\n"
     ]
    },
    {
     "name": "stderr",
     "output_type": "stream",
     "text": [
      "C:\\Users\\ziyi\\Anaconda3\\lib\\site-packages\\ipykernel\\__main__.py:11: SettingWithCopyWarning: \n",
      "A value is trying to be set on a copy of a slice from a DataFrame.\n",
      "Try using .loc[row_indexer,col_indexer] = value instead\n",
      "\n",
      "See the caveats in the documentation: http://pandas.pydata.org/pandas-docs/stable/indexing.html#indexing-view-versus-copy\n",
      "C:\\Users\\ziyi\\Anaconda3\\lib\\site-packages\\ipykernel\\__main__.py:12: SettingWithCopyWarning: \n",
      "A value is trying to be set on a copy of a slice from a DataFrame\n",
      "\n",
      "See the caveats in the documentation: http://pandas.pydata.org/pandas-docs/stable/indexing.html#indexing-view-versus-copy\n",
      "C:\\Users\\ziyi\\Anaconda3\\lib\\site-packages\\ipykernel\\__main__.py:13: SettingWithCopyWarning: \n",
      "A value is trying to be set on a copy of a slice from a DataFrame.\n",
      "Try using .loc[row_indexer,col_indexer] = value instead\n",
      "\n",
      "See the caveats in the documentation: http://pandas.pydata.org/pandas-docs/stable/indexing.html#indexing-view-versus-copy\n",
      "C:\\Users\\ziyi\\Anaconda3\\lib\\site-packages\\pandas\\core\\indexing.py:461: SettingWithCopyWarning: \n",
      "A value is trying to be set on a copy of a slice from a DataFrame.\n",
      "Try using .loc[row_indexer,col_indexer] = value instead\n",
      "\n",
      "See the caveats in the documentation: http://pandas.pydata.org/pandas-docs/stable/indexing.html#indexing-view-versus-copy\n",
      "  self.obj[item] = s\n",
      "C:\\Users\\ziyi\\Anaconda3\\lib\\site-packages\\ipykernel\\__main__.py:16: SettingWithCopyWarning: \n",
      "A value is trying to be set on a copy of a slice from a DataFrame.\n",
      "Try using .loc[row_indexer,col_indexer] = value instead\n",
      "\n",
      "See the caveats in the documentation: http://pandas.pydata.org/pandas-docs/stable/indexing.html#indexing-view-versus-copy\n"
     ]
    },
    {
     "name": "stdout",
     "output_type": "stream",
     "text": [
      "Financials\n",
      "Consumer Discretionary\n",
      "Industrials\n",
      "Real Estate\n",
      "Materials\n",
      "Health Care\n",
      "Energy\n",
      "Consumer Staples\n",
      "Utilities\n"
     ]
    }
   ],
   "source": [
    "ITEM_docs_tojoin=[]\n",
    "\n",
    "for x in sector_count.index[:-1]:\n",
    "    print(x)\n",
    "    df=pd.read_csv(\"8K data/MID_Sectors/Input/\"+x+\"_text.csv\",index_col=0,encoding=\"utf-8\")\n",
    "    df=df[-pd.isnull(df.Text)] #remove invalid rows\n",
    "    Events_df=pd.read_csv(\"8K data/MID_sectors/Input/\"+x+\"_events.csv\",index_col=0)\n",
    "    \n",
    "    ITEM_list=TA.get_event_doc(Events_df,item)\n",
    "    ITEM_docs=df.loc[ITEM_list]\n",
    "    ITEM_docs[\"ITEM_text\"]=ITEM_docs.Text.apply(lambda x:TA.get_event_text(x,item))\n",
    "    ITEM_docs.drop(\"Text\",axis=1,inplace=True)\n",
    "    ITEM_docs[\"ITEM_words\"]=ITEM_docs[\"ITEM_text\"]\n",
    "    for i,row in ITEM_docs.iterrows():\n",
    "        ITEM_docs.loc[i,\"ITEM_words\"]=TA.clean_text(row[\"ITEM_text\"],row[\"Company Name\"])\n",
    "    ITEM_docs[\"ITEM_nouns\"]=ITEM_docs.ITEM_words.apply(lambda x:TA.get_noun(x))\n",
    "\n",
    "    ITEM_docs_tojoin.append(ITEM_docs)    "
   ]
  },
  {
   "cell_type": "code",
   "execution_count": 104,
   "metadata": {
    "collapsed": false
   },
   "outputs": [],
   "source": [
    "ITEM_docs= pd.concat(ITEM_docs_tojoin)"
   ]
  },
  {
   "cell_type": "code",
   "execution_count": 105,
   "metadata": {
    "collapsed": false,
    "scrolled": true
   },
   "outputs": [
    {
     "data": {
      "text/html": [
       "<div>\n",
       "<table border=\"1\" class=\"dataframe\">\n",
       "  <thead>\n",
       "    <tr style=\"text-align: right;\">\n",
       "      <th></th>\n",
       "      <th>CIK</th>\n",
       "      <th>Company Name</th>\n",
       "      <th>Form Type</th>\n",
       "      <th>Date Filed</th>\n",
       "      <th>Filename</th>\n",
       "      <th>Ticker</th>\n",
       "      <th>ITEM_text</th>\n",
       "      <th>ITEM_words</th>\n",
       "      <th>ITEM_nouns</th>\n",
       "    </tr>\n",
       "  </thead>\n",
       "  <tbody>\n",
       "    <tr>\n",
       "      <th>156889</th>\n",
       "      <td>354707</td>\n",
       "      <td>HAWAIIAN ELECTRIC INDUSTRIES INC</td>\n",
       "      <td>8-K</td>\n",
       "      <td>2016-07-19</td>\n",
       "      <td>edgar/data/354707/0000354707-16-000155.txt</td>\n",
       "      <td>HE</td>\n",
       "      <td>ITEM 1.02  TERMINATION OF A MATERIAL DEFINITIV...</td>\n",
       "      <td>item termin materi definit agreement may forti...</td>\n",
       "      <td>item materi definit agreement hawaii energi fo...</td>\n",
       "    </tr>\n",
       "    <tr>\n",
       "      <th>38362</th>\n",
       "      <td>1108426</td>\n",
       "      <td>PNM RESOURCES INC</td>\n",
       "      <td>8-K</td>\n",
       "      <td>2014-03-05</td>\n",
       "      <td>edgar/data/1108426/0001108426-14-000021.txt</td>\n",
       "      <td>PNM</td>\n",
       "      <td>ITEM 1.02 TERMINATION OF A MATERIAL DEFINITIVE...</td>\n",
       "      <td>item termin materi definit agreement inform re...</td>\n",
       "      <td>item materi definit agreement inform requir it...</td>\n",
       "    </tr>\n",
       "    <tr>\n",
       "      <th>194277</th>\n",
       "      <td>356309</td>\n",
       "      <td>NEW JERSEY RESOURCES CORP</td>\n",
       "      <td>8-K</td>\n",
       "      <td>2014-05-19</td>\n",
       "      <td>edgar/data/356309/0000356309-14-000061.txt</td>\n",
       "      <td>NJR</td>\n",
       "      <td>ITEM 1.02 TERMINATION OF A MATERIAL DEFINITIVE...</td>\n",
       "      <td>item termin materi definit agreement inform re...</td>\n",
       "      <td>item materi definit agreement inform requir it...</td>\n",
       "    </tr>\n",
       "    <tr>\n",
       "      <th>164900</th>\n",
       "      <td>354707</td>\n",
       "      <td>HAWAIIAN ELECTRIC INDUSTRIES INC</td>\n",
       "      <td>8-K</td>\n",
       "      <td>2014-09-04</td>\n",
       "      <td>edgar/data/354707/0000354707-14-000084.txt</td>\n",
       "      <td>HE</td>\n",
       "      <td>ITEM 1.02  TERMINATION OF A MATERIAL DEFINITIV...</td>\n",
       "      <td>item termin materi definit agreementon august ...</td>\n",
       "      <td>item materi definit agreementon august provid ...</td>\n",
       "    </tr>\n",
       "    <tr>\n",
       "      <th>165303</th>\n",
       "      <td>356309</td>\n",
       "      <td>NEW JERSEY RESOURCES CORP</td>\n",
       "      <td>8-K</td>\n",
       "      <td>2014-09-30</td>\n",
       "      <td>edgar/data/356309/0001193125-14-358954.txt</td>\n",
       "      <td>NJR</td>\n",
       "      <td>ITEM 1.02\\r\\nTERMINATION OF A MATERIAL DEFINIT...</td>\n",
       "      <td>item termin materi definit agreement inform re...</td>\n",
       "      <td>item materi definit agreement inform requir it...</td>\n",
       "    </tr>\n",
       "  </tbody>\n",
       "</table>\n",
       "</div>"
      ],
      "text/plain": [
       "            CIK                      Company Name Form Type  Date Filed  \\\n",
       "156889   354707  HAWAIIAN ELECTRIC INDUSTRIES INC       8-K  2016-07-19   \n",
       "38362   1108426                 PNM RESOURCES INC       8-K  2014-03-05   \n",
       "194277   356309         NEW JERSEY RESOURCES CORP       8-K  2014-05-19   \n",
       "164900   354707  HAWAIIAN ELECTRIC INDUSTRIES INC       8-K  2014-09-04   \n",
       "165303   356309         NEW JERSEY RESOURCES CORP       8-K  2014-09-30   \n",
       "\n",
       "                                           Filename Ticker  \\\n",
       "156889   edgar/data/354707/0000354707-16-000155.txt     HE   \n",
       "38362   edgar/data/1108426/0001108426-14-000021.txt    PNM   \n",
       "194277   edgar/data/356309/0000356309-14-000061.txt    NJR   \n",
       "164900   edgar/data/354707/0000354707-14-000084.txt     HE   \n",
       "165303   edgar/data/356309/0001193125-14-358954.txt    NJR   \n",
       "\n",
       "                                                ITEM_text  \\\n",
       "156889  ITEM 1.02  TERMINATION OF A MATERIAL DEFINITIV...   \n",
       "38362   ITEM 1.02 TERMINATION OF A MATERIAL DEFINITIVE...   \n",
       "194277  ITEM 1.02 TERMINATION OF A MATERIAL DEFINITIVE...   \n",
       "164900  ITEM 1.02  TERMINATION OF A MATERIAL DEFINITIV...   \n",
       "165303  ITEM 1.02\\r\\nTERMINATION OF A MATERIAL DEFINIT...   \n",
       "\n",
       "                                               ITEM_words  \\\n",
       "156889  item termin materi definit agreement may forti...   \n",
       "38362   item termin materi definit agreement inform re...   \n",
       "194277  item termin materi definit agreement inform re...   \n",
       "164900  item termin materi definit agreementon august ...   \n",
       "165303  item termin materi definit agreement inform re...   \n",
       "\n",
       "                                               ITEM_nouns  \n",
       "156889  item materi definit agreement hawaii energi fo...  \n",
       "38362   item materi definit agreement inform requir it...  \n",
       "194277  item materi definit agreement inform requir it...  \n",
       "164900  item materi definit agreementon august provid ...  \n",
       "165303  item materi definit agreement inform requir it...  "
      ]
     },
     "execution_count": 105,
     "metadata": {},
     "output_type": "execute_result"
    }
   ],
   "source": [
    "ITEM_docs.tail()"
   ]
  },
  {
   "cell_type": "markdown",
   "metadata": {
    "collapsed": true
   },
   "source": [
    "ITEM_list=TA.get_event_doc(Events_df,item)\n",
    "ITEM_docs=df.loc[ITEM_list]\n",
    "ITEM_docs[\"ITEM_text\"]=ITEM_docs.Text.apply(lambda x:TA.get_event_text(x,item))\n",
    "ITEM_docs.drop(\"Text\",axis=1,inplace=True)\n",
    "ITEM_docs[\"ITEM_words\"]=ITEM_docs[\"ITEM_text\"]\n",
    "for i,row in ITEM_docs.iterrows():\n",
    "    ITEM_docs.loc[i,\"ITEM_words\"]=TA.clean_text(row[\"ITEM_text\"],row[\"Company Name\"])\n",
    "    ITEM_docs[\"ITEM_nouns\"]=ITEM_docs.ITEM_words.apply(lambda x:TA.get_noun(x))"
   ]
  },
  {
   "cell_type": "markdown",
   "metadata": {},
   "source": [
    "### Text Representation: Bag of Words"
   ]
  },
  {
   "cell_type": "code",
   "execution_count": 106,
   "metadata": {
    "collapsed": false
   },
   "outputs": [
    {
     "name": "stdout",
     "output_type": "stream",
     "text": [
      "1247\n",
      "[[0 0 0 ..., 0 0 0]\n",
      " [0 0 0 ..., 0 0 0]\n",
      " [0 0 0 ..., 0 0 1]\n",
      " ..., \n",
      " [0 0 0 ..., 0 0 0]\n",
      " [0 0 0 ..., 0 0 0]\n",
      " [0 0 0 ..., 0 0 0]]\n",
      "[25  2  4 ..., 54  2 33]\n"
     ]
    }
   ],
   "source": [
    "#get bag of words\n",
    "vectorizer = CountVectorizer( analyzer='word',tokenizer = None, preprocessor = None,stop_words = None,max_features = 5000)\n",
    "X=vectorizer.fit_transform(ITEM_docs.ITEM_nouns.tolist())\n",
    "print (len(vectorizer.get_feature_names())) #1171 features \n",
    "print (X.toarray())\n",
    "print ((np.sum(X.toarray(),0)))"
   ]
  },
  {
   "cell_type": "code",
   "execution_count": 107,
   "metadata": {
    "collapsed": false
   },
   "outputs": [
    {
     "name": "stderr",
     "output_type": "stream",
     "text": [
      "C:\\Users\\ziyi\\Anaconda3\\lib\\site-packages\\ipykernel\\__main__.py:5: FutureWarning: sort(columns=....) is deprecated, use sort_values(by=.....)\n"
     ]
    },
    {
     "data": {
      "text/plain": [
       "<matplotlib.axes._subplots.AxesSubplot at 0xea21470>"
      ]
     },
     "execution_count": 107,
     "metadata": {},
     "output_type": "execute_result"
    },
    {
     "data": {
      "image/png": "[encoded data removed]",
      "text/plain": [
       "<matplotlib.figure.Figure at 0xea15240>"
      ]
     },
     "metadata": {},
     "output_type": "display_data"
    }
   ],
   "source": [
    "ITEM_dict=pd.DataFrame({\"Freq\":[0]*len(vectorizer.get_feature_names())},index=vectorizer.get_feature_names())\n",
    "ITEM_dict[\"Freq\"]=np.sum(X.toarray(),0)\n",
    "ITEM_dict[\"Freq_pct\"]=ITEM_dict[\"Freq\"]/sum(ITEM_dict[\"Freq\"])\n",
    "\n",
    "ITEM_dict=ITEM_dict.sort(['Freq'], ascending=[False])\n",
    "\n",
    "ITEM_dict[\"Freq_pct\"][:20].plot(x=ITEM_dict.index,y=\"Freq_pct\")"
   ]
  },
  {
   "cell_type": "code",
   "execution_count": 108,
   "metadata": {
    "collapsed": false
   },
   "outputs": [],
   "source": [
    "ITEM_dict.to_csv(add4,index_col=0)"
   ]
  },
  {
   "cell_type": "code",
   "execution_count": 109,
   "metadata": {
    "collapsed": false,
    "scrolled": true
   },
   "outputs": [
    {
     "data": {
      "text/html": [
       "<div>\n",
       "<table border=\"1\" class=\"dataframe\">\n",
       "  <thead>\n",
       "    <tr style=\"text-align: right;\">\n",
       "      <th></th>\n",
       "      <th>abil</th>\n",
       "      <th>abl</th>\n",
       "      <th>acb</th>\n",
       "      <th>acceler</th>\n",
       "      <th>accept</th>\n",
       "      <th>access</th>\n",
       "      <th>accord</th>\n",
       "      <th>accordingli</th>\n",
       "      <th>accordion</th>\n",
       "      <th>account</th>\n",
       "      <th>...</th>\n",
       "      <th>word</th>\n",
       "      <th>work</th>\n",
       "      <th>worth</th>\n",
       "      <th>www</th>\n",
       "      <th>year</th>\n",
       "      <th>yield</th>\n",
       "      <th>york</th>\n",
       "      <th>CIK</th>\n",
       "      <th>Company Name</th>\n",
       "      <th>Date Filed</th>\n",
       "    </tr>\n",
       "  </thead>\n",
       "  <tbody>\n",
       "    <tr>\n",
       "      <th>15594</th>\n",
       "      <td>0.0</td>\n",
       "      <td>0.0</td>\n",
       "      <td>0.0</td>\n",
       "      <td>0.0</td>\n",
       "      <td>0.0</td>\n",
       "      <td>0.0</td>\n",
       "      <td>0.0</td>\n",
       "      <td>0.0</td>\n",
       "      <td>0.0</td>\n",
       "      <td>0.0</td>\n",
       "      <td>...</td>\n",
       "      <td>0.0</td>\n",
       "      <td>0.0</td>\n",
       "      <td>0.0</td>\n",
       "      <td>0.0</td>\n",
       "      <td>0.0</td>\n",
       "      <td>0.0</td>\n",
       "      <td>0.000000</td>\n",
       "      <td>1078075</td>\n",
       "      <td>NETSCOUT SYSTEMS INC</td>\n",
       "      <td>2015-07-15</td>\n",
       "    </tr>\n",
       "    <tr>\n",
       "      <th>196654</th>\n",
       "      <td>0.0</td>\n",
       "      <td>0.0</td>\n",
       "      <td>0.0</td>\n",
       "      <td>0.0</td>\n",
       "      <td>0.0</td>\n",
       "      <td>0.0</td>\n",
       "      <td>0.0</td>\n",
       "      <td>0.0</td>\n",
       "      <td>0.0</td>\n",
       "      <td>0.0</td>\n",
       "      <td>...</td>\n",
       "      <td>0.0</td>\n",
       "      <td>0.0</td>\n",
       "      <td>0.0</td>\n",
       "      <td>0.0</td>\n",
       "      <td>0.0</td>\n",
       "      <td>0.0</td>\n",
       "      <td>0.000000</td>\n",
       "      <td>898293</td>\n",
       "      <td>JABIL CIRCUIT INC</td>\n",
       "      <td>2015-07-10</td>\n",
       "    </tr>\n",
       "    <tr>\n",
       "      <th>233543</th>\n",
       "      <td>0.0</td>\n",
       "      <td>0.0</td>\n",
       "      <td>0.0</td>\n",
       "      <td>0.0</td>\n",
       "      <td>0.0</td>\n",
       "      <td>0.0</td>\n",
       "      <td>0.0</td>\n",
       "      <td>0.0</td>\n",
       "      <td>0.0</td>\n",
       "      <td>0.0</td>\n",
       "      <td>...</td>\n",
       "      <td>0.0</td>\n",
       "      <td>0.0</td>\n",
       "      <td>0.0</td>\n",
       "      <td>0.0</td>\n",
       "      <td>0.0</td>\n",
       "      <td>0.0</td>\n",
       "      <td>0.019799</td>\n",
       "      <td>310568</td>\n",
       "      <td>MICROSEMI CORP</td>\n",
       "      <td>2016-01-19</td>\n",
       "    </tr>\n",
       "    <tr>\n",
       "      <th>203598</th>\n",
       "      <td>0.0</td>\n",
       "      <td>0.0</td>\n",
       "      <td>0.0</td>\n",
       "      <td>0.0</td>\n",
       "      <td>0.0</td>\n",
       "      <td>0.0</td>\n",
       "      <td>0.0</td>\n",
       "      <td>0.0</td>\n",
       "      <td>0.0</td>\n",
       "      <td>0.0</td>\n",
       "      <td>...</td>\n",
       "      <td>0.0</td>\n",
       "      <td>0.0</td>\n",
       "      <td>0.0</td>\n",
       "      <td>0.0</td>\n",
       "      <td>0.0</td>\n",
       "      <td>0.0</td>\n",
       "      <td>0.000000</td>\n",
       "      <td>749251</td>\n",
       "      <td>GARTNER INC</td>\n",
       "      <td>2016-06-17</td>\n",
       "    </tr>\n",
       "    <tr>\n",
       "      <th>232980</th>\n",
       "      <td>0.0</td>\n",
       "      <td>0.0</td>\n",
       "      <td>0.0</td>\n",
       "      <td>0.0</td>\n",
       "      <td>0.0</td>\n",
       "      <td>0.0</td>\n",
       "      <td>0.0</td>\n",
       "      <td>0.0</td>\n",
       "      <td>0.0</td>\n",
       "      <td>0.0</td>\n",
       "      <td>...</td>\n",
       "      <td>0.0</td>\n",
       "      <td>0.0</td>\n",
       "      <td>0.0</td>\n",
       "      <td>0.0</td>\n",
       "      <td>0.0</td>\n",
       "      <td>0.0</td>\n",
       "      <td>0.000000</td>\n",
       "      <td>910638</td>\n",
       "      <td>3D SYSTEMS CORP</td>\n",
       "      <td>2016-05-02</td>\n",
       "    </tr>\n",
       "  </tbody>\n",
       "</table>\n",
       "<p>5 rows × 1250 columns</p>\n",
       "</div>"
      ],
      "text/plain": [
       "        abil  abl  acb  acceler  accept  access  accord  accordingli  \\\n",
       "15594    0.0  0.0  0.0      0.0     0.0     0.0     0.0          0.0   \n",
       "196654   0.0  0.0  0.0      0.0     0.0     0.0     0.0          0.0   \n",
       "233543   0.0  0.0  0.0      0.0     0.0     0.0     0.0          0.0   \n",
       "203598   0.0  0.0  0.0      0.0     0.0     0.0     0.0          0.0   \n",
       "232980   0.0  0.0  0.0      0.0     0.0     0.0     0.0          0.0   \n",
       "\n",
       "        accordion  account     ...      word  work  worth  www  year  yield  \\\n",
       "15594         0.0      0.0     ...       0.0   0.0    0.0  0.0   0.0    0.0   \n",
       "196654        0.0      0.0     ...       0.0   0.0    0.0  0.0   0.0    0.0   \n",
       "233543        0.0      0.0     ...       0.0   0.0    0.0  0.0   0.0    0.0   \n",
       "203598        0.0      0.0     ...       0.0   0.0    0.0  0.0   0.0    0.0   \n",
       "232980        0.0      0.0     ...       0.0   0.0    0.0  0.0   0.0    0.0   \n",
       "\n",
       "            york      CIK          Company Name  Date Filed  \n",
       "15594   0.000000  1078075  NETSCOUT SYSTEMS INC  2015-07-15  \n",
       "196654  0.000000   898293     JABIL CIRCUIT INC  2015-07-10  \n",
       "233543  0.019799   310568        MICROSEMI CORP  2016-01-19  \n",
       "203598  0.000000   749251           GARTNER INC  2016-06-17  \n",
       "232980  0.000000   910638       3D SYSTEMS CORP  2016-05-02  \n",
       "\n",
       "[5 rows x 1250 columns]"
      ]
     },
     "execution_count": 109,
     "metadata": {},
     "output_type": "execute_result"
    }
   ],
   "source": [
    "# get tf-idf table\n",
    "transformer = TfidfTransformer(smooth_idf=True)\n",
    "tf_idf=transformer.fit_transform(X)\n",
    "tfidf_df=pd.DataFrame(tf_idf.toarray(), index=ITEM_docs.index, columns=vectorizer.get_feature_names())\n",
    "tfidf_df[['CIK','Company Name','Date Filed']]=ITEM_docs[['CIK','Company Name','Date Filed']].copy()\n",
    "tfidf_df.head()"
   ]
  },
  {
   "cell_type": "markdown",
   "metadata": {
    "collapsed": true
   },
   "source": [
    "Key_df=TA.Doc_Keywords(ITEM_docs, tfidf_df[vectorizer.get_feature_names()], 10)\n",
    "Key_df"
   ]
  },
  {
   "cell_type": "code",
   "execution_count": 111,
   "metadata": {
    "collapsed": true
   },
   "outputs": [],
   "source": [
    "tfidf_df.to_csv(add1)\n",
    "#Key_df.to_csv(add2)"
   ]
  },
  {
   "cell_type": "markdown",
   "metadata": {},
   "source": [
    "### Text Representation: SPARSE PCA"
   ]
  },
  {
   "cell_type": "code",
   "execution_count": 112,
   "metadata": {
    "collapsed": false
   },
   "outputs": [
    {
     "data": {
      "text/plain": [
       "array([[ 0.,  0.,  0., ...,  0.,  0.,  0.],\n",
       "       [ 0.,  0.,  0., ...,  0.,  0.,  0.],\n",
       "       [ 0.,  0.,  0., ...,  0.,  0.,  0.],\n",
       "       ..., \n",
       "       [ 0.,  0.,  0., ...,  0.,  0.,  0.],\n",
       "       [ 0.,  0.,  0., ...,  0.,  0.,  0.],\n",
       "       [ 0.,  0.,  0., ...,  0.,  0.,  0.]])"
      ]
     },
     "execution_count": 112,
     "metadata": {},
     "output_type": "execute_result"
    }
   ],
   "source": [
    "from sklearn import decomposition\n",
    "SPCA=decomposition.SparsePCA(n_components=30,alpha=0.3,ridge_alpha=0)\n",
    "SPCA.fit(tfidf_df.iloc[:,:-3])\n",
    "SPCA.components_"
   ]
  },
  {
   "cell_type": "code",
   "execution_count": 113,
   "metadata": {
    "collapsed": false
   },
   "outputs": [
    {
     "data": {
      "text/plain": [
       "array([ 7, 14,  1,  4,  7,  3,  1,  5,  5,  3,  4,  4,  4,  3,  6,  2,  0,\n",
       "        2,  0,  1,  0,  0,  0,  0,  0,  0,  0,  0,  0,  0])"
      ]
     },
     "execution_count": 113,
     "metadata": {},
     "output_type": "execute_result"
    }
   ],
   "source": [
    "np.sum(SPCA.components_!=0,axis=1)"
   ]
  },
  {
   "cell_type": "code",
   "execution_count": 114,
   "metadata": {
    "collapsed": false
   },
   "outputs": [
    {
     "data": {
      "text/plain": [
       "50.273326265594932"
      ]
     },
     "execution_count": 114,
     "metadata": {},
     "output_type": "execute_result"
    }
   ],
   "source": [
    "SPCA.error_[-1]"
   ]
  },
  {
   "cell_type": "code",
   "execution_count": 115,
   "metadata": {
    "collapsed": false
   },
   "outputs": [
    {
     "name": "stdout",
     "output_type": "stream",
     "text": [
      "['period', 'person', 'perform', 'pennsylvania', 'permit', 'personnel', 'pca', nan, nan, nan, nan, nan, nan, nan, nan, nan, nan, nan, nan, nan]\n",
      "['item', 'oblig', 'creation', 'sheet', 'financi', 'herein', 'balanc', 'inform', 'definit', 'registr', 'materi', 'incorpor', 'refer', 'requir', nan, nan, nan, nan, nan, nan]\n",
      "['merger', nan, nan, nan, nan, nan, nan, nan, nan, nan, nan, nan, nan, nan, nan, nan, nan, nan, nan, nan]\n",
      "['note', 'indentur', 'truste', 'redempt', nan, nan, nan, nan, nan, nan, nan, nan, nan, nan, nan, nan, nan, nan, nan, nan]\n",
      "['personnel', 'pierc', 'person', 'period', 'phrase', 'place', 'percentag', nan, nan, nan, nan, nan, nan, nan, nan, nan, nan, nan, nan, nan]\n",
      "['person', 'phrase', 'permit', nan, nan, nan, nan, nan, nan, nan, nan, nan, nan, nan, nan, nan, nan, nan, nan, nan]\n",
      "['astoria', nan, nan, nan, nan, nan, nan, nan, nan, nan, nan, nan, nan, nan, nan, nan, nan, nan, nan, nan]\n",
      "['person', 'phrase', 'permit', 'perform', 'personnel', nan, nan, nan, nan, nan, nan, nan, nan, nan, nan, nan, nan, nan, nan, nan]\n",
      "['revolv', 'credit', 'loan', 'borrow', 'lender', nan, nan, nan, nan, nan, nan, nan, nan, nan, nan, nan, nan, nan, nan, nan]\n",
      "['personnel', 'pierc', 'person', nan, nan, nan, nan, nan, nan, nan, nan, nan, nan, nan, nan, nan, nan, nan, nan, nan]\n",
      "['packag', 'taa', 'receiv', 'fund', nan, nan, nan, nan, nan, nan, nan, nan, nan, nan, nan, nan, nan, nan, nan, nan]\n",
      "['materi', 'term', 'termin', 'agreement', nan, nan, nan, nan, nan, nan, nan, nan, nan, nan, nan, nan, nan, nan, nan, nan]\n",
      "['permit', 'personnel', 'period', 'percentag', nan, nan, nan, nan, nan, nan, nan, nan, nan, nan, nan, nan, nan, nan, nan, nan]\n",
      "['person', 'phrase', 'permit', nan, nan, nan, nan, nan, nan, nan, nan, nan, nan, nan, nan, nan, nan, nan, nan, nan]\n",
      "['rate', 'interest', 'term', 'facil', 'loan', 'revolv', nan, nan, nan, nan, nan, nan, nan, nan, nan, nan, nan, nan, nan, nan]\n",
      "['abil', 'abl', nan, nan, nan, nan, nan, nan, nan, nan, nan, nan, nan, nan, nan, nan, nan, nan, nan, nan]\n",
      "[nan, nan, nan, nan, nan, nan, nan, nan, nan, nan, nan, nan, nan, nan, nan, nan, nan, nan, nan, nan]\n",
      "['date', 'septemb', nan, nan, nan, nan, nan, nan, nan, nan, nan, nan, nan, nan, nan, nan, nan, nan, nan, nan]\n",
      "[nan, nan, nan, nan, nan, nan, nan, nan, nan, nan, nan, nan, nan, nan, nan, nan, nan, nan, nan, nan]\n",
      "['time', nan, nan, nan, nan, nan, nan, nan, nan, nan, nan, nan, nan, nan, nan, nan, nan, nan, nan, nan]\n",
      "[nan, nan, nan, nan, nan, nan, nan, nan, nan, nan, nan, nan, nan, nan, nan, nan, nan, nan, nan, nan]\n",
      "[nan, nan, nan, nan, nan, nan, nan, nan, nan, nan, nan, nan, nan, nan, nan, nan, nan, nan, nan, nan]\n",
      "[nan, nan, nan, nan, nan, nan, nan, nan, nan, nan, nan, nan, nan, nan, nan, nan, nan, nan, nan, nan]\n",
      "[nan, nan, nan, nan, nan, nan, nan, nan, nan, nan, nan, nan, nan, nan, nan, nan, nan, nan, nan, nan]\n",
      "[nan, nan, nan, nan, nan, nan, nan, nan, nan, nan, nan, nan, nan, nan, nan, nan, nan, nan, nan, nan]\n",
      "[nan, nan, nan, nan, nan, nan, nan, nan, nan, nan, nan, nan, nan, nan, nan, nan, nan, nan, nan, nan]\n",
      "[nan, nan, nan, nan, nan, nan, nan, nan, nan, nan, nan, nan, nan, nan, nan, nan, nan, nan, nan, nan]\n",
      "[nan, nan, nan, nan, nan, nan, nan, nan, nan, nan, nan, nan, nan, nan, nan, nan, nan, nan, nan, nan]\n",
      "[nan, nan, nan, nan, nan, nan, nan, nan, nan, nan, nan, nan, nan, nan, nan, nan, nan, nan, nan, nan]\n",
      "[nan, nan, nan, nan, nan, nan, nan, nan, nan, nan, nan, nan, nan, nan, nan, nan, nan, nan, nan, nan]\n"
     ]
    }
   ],
   "source": [
    "SPCA_df=pd.DataFrame(SPCA.components_, columns=tfidf_df.iloc[:,:-3].columns)\n",
    "SPCA_keywords=[]\n",
    "for i,row in SPCA_df.iterrows():\n",
    "    SPCA_keywords.append(TA.get_Keywords(row,20))\n",
    "    print(TA.get_Keywords(row,20))"
   ]
  },
  {
   "cell_type": "code",
   "execution_count": 116,
   "metadata": {
    "collapsed": false
   },
   "outputs": [],
   "source": [
    "pd.DataFrame(SPCA_keywords).to_csv(add3)"
   ]
  },
  {
   "cell_type": "markdown",
   "metadata": {
    "collapsed": true
   },
   "source": [
    "col_names=['Topic'+str(i) for i in np.arange(0,SPCA_df.shape[0])]\n",
    "Topics=pd.DataFrame(SPCA.transform(tfidf_df.iloc[:,:-3]),index=tfidf_df.index, columns=col_names)\n",
    "Topics[['CIK','Company Name','Date Filed']]=df[['CIK','Company Name','Date Filed']].copy()"
   ]
  },
  {
   "cell_type": "markdown",
   "metadata": {
    "collapsed": true
   },
   "source": [
    "Topics"
   ]
  },
  {
   "cell_type": "markdown",
   "metadata": {
    "collapsed": true
   },
   "source": [
    "Topics.to_csv(add3)"
   ]
  },
  {
   "cell_type": "markdown",
   "metadata": {},
   "source": [
    "## Part V: Premilinary Regression with Text Data"
   ]
  },
  {
   "cell_type": "code",
   "execution_count": null,
   "metadata": {
    "collapsed": true
   },
   "outputs": [],
   "source": [
    "#Import Data\n",
    "df_text=pd.read_csv(\"8K data/events_ts_Info.csv\",parse_dates=True,index_col=0)\n",
    "df_return=pd.read_csv(\"8K data/Price_ts_Info.csv\",parse_dates=True,index_col=0)"
   ]
  },
  {
   "cell_type": "code",
   "execution_count": null,
   "metadata": {
    "collapsed": true
   },
   "outputs": [],
   "source": [
    "df_text=df_text.loc[df_return.index]"
   ]
  },
  {
   "cell_type": "markdown",
   "metadata": {},
   "source": [
    "### Linear Regression"
   ]
  },
  {
   "cell_type": "code",
   "execution_count": null,
   "metadata": {
    "collapsed": true
   },
   "outputs": [],
   "source": [
    "Y=df_return.iloc[2:,1].as_matrix()\n",
    "X_text=df_text.iloc[1:-1,:]\n",
    "X_return=df_return.iloc[1:-1,1]\n",
    "X=pd.concat([X_text,X_return],axis=1)\n",
    "X"
   ]
  },
  {
   "cell_type": "code",
   "execution_count": null,
   "metadata": {
    "collapsed": true
   },
   "outputs": [],
   "source": [
    "model = sm.OLS(Y,X)\n",
    "results = model.fit()\n",
    "print(results.summary())"
   ]
  },
  {
   "cell_type": "code",
   "execution_count": null,
   "metadata": {
    "collapsed": true
   },
   "outputs": [],
   "source": [
    "#Setup Item Parameters \n",
    "Item=\"2.02\"\n",
    "item=\"ITEM\"+\" \"+Item\n",
    "itemb=\"202\"\n",
    "add0='8K Data/tfidf_ITEM'+itemb+\".csv\"\n",
    "Ykind='Vol_Ratio'"
   ]
  },
  {
   "cell_type": "markdown",
   "metadata": {},
   "source": [
    "## One week effect on volatility"
   ]
  },
  {
   "cell_type": "code",
   "execution_count": null,
   "metadata": {
    "collapsed": true
   },
   "outputs": [],
   "source": [
    "#Import Data\n",
    "df2=pd.read_csv(\"8K data/list_40.csv\", index_col=0)\n",
    "df=pd.read_csv(add0, index_col=0)\n",
    "df['Date Filed']=df['Date Filed'].apply(lambda x: pd.to_datetime(x, format='%Y-%m-%d').date())"
   ]
  },
  {
   "cell_type": "code",
   "execution_count": null,
   "metadata": {
    "collapsed": true
   },
   "outputs": [],
   "source": [
    "KA=TA.KeywordAnalyzer(df,df2)"
   ]
  },
  {
   "cell_type": "code",
   "execution_count": null,
   "metadata": {
    "collapsed": true
   },
   "outputs": [],
   "source": [
    "# pull stock return as label\n",
    "Y=KA.get_Y(kind=Ykind)"
   ]
  },
  {
   "cell_type": "code",
   "execution_count": null,
   "metadata": {
    "collapsed": true
   },
   "outputs": [],
   "source": [
    "df_temp=df.drop(['CIK','Company Name','Date Filed'],axis=1).copy()\n",
    "X_text=Normal(df_temp.as_matrix(),axis=1)"
   ]
  },
  {
   "cell_type": "code",
   "execution_count": null,
   "metadata": {
    "collapsed": true
   },
   "outputs": [],
   "source": [
    "#pd.DataFrame(X_ts).to_csv(addX1)\n",
    "pd.DataFrame(X_text).to_csv(addX2)\n",
    "pd.DataFrame(Y).to_csv(addY)"
   ]
  },
  {
   "cell_type": "code",
   "execution_count": null,
   "metadata": {
    "collapsed": true
   },
   "outputs": [],
   "source": [
    "X_text=pd.read_csv(addX2,index_col=0)\n",
    "Y=pd.read_csv(addY,index_col=0)"
   ]
  },
  {
   "cell_type": "code",
   "execution_count": null,
   "metadata": {
    "collapsed": true
   },
   "outputs": [],
   "source": [
    "X_text.columns=df_temp.columns"
   ]
  },
  {
   "cell_type": "markdown",
   "metadata": {},
   "source": [
    "### Lasso Regression"
   ]
  },
  {
   "cell_type": "markdown",
   "metadata": {},
   "source": [
    "#### Text Only"
   ]
  },
  {
   "cell_type": "code",
   "execution_count": null,
   "metadata": {
    "collapsed": true
   },
   "outputs": [],
   "source": [
    "#construct model and predict\n",
    "X=X_text.as_matrix()\n",
    "Y=Y.reshape(Y.shape[0],)\n",
    "\n",
    "X_train,Y_train=TA.get_train(X,Y,1.0)\n",
    "X_test=X_train\n",
    "Y_test=Y_train\n",
    "\n",
    "best_param=TA.Lasso_param(X_train,Y_train)\n",
    "lasso =linear_model.Lasso(alpha=best_param)\n",
    "lasso.fit(X_train,Y_train)\n",
    "pred=lasso.predict(X_test)"
   ]
  },
  {
   "cell_type": "code",
   "execution_count": null,
   "metadata": {
    "collapsed": true
   },
   "outputs": [],
   "source": [
    "best_param"
   ]
  },
  {
   "cell_type": "code",
   "execution_count": null,
   "metadata": {
    "collapsed": true
   },
   "outputs": [],
   "source": [
    "print(lasso.coef_)\n",
    "print(lasso.intercept_)\n",
    "print(pred)"
   ]
  },
  {
   "cell_type": "code",
   "execution_count": null,
   "metadata": {
    "collapsed": true
   },
   "outputs": [],
   "source": [
    "Comp=pd.DataFrame({\"Y\":Y_test,\n",
    "                  \"Pred\":pred})\n",
    "Comp[\"Error\"]=abs(Comp[\"Y\"]-Comp[\"Pred\"])\n",
    "Comp"
   ]
  },
  {
   "cell_type": "code",
   "execution_count": null,
   "metadata": {
    "collapsed": true
   },
   "outputs": [],
   "source": [
    "plt.figure()\n",
    "Comp[[\"Pred\",\"Y\"]].plot()"
   ]
  },
  {
   "cell_type": "markdown",
   "metadata": {},
   "source": [
    "#### SVR Regression"
   ]
  },
  {
   "cell_type": "code",
   "execution_count": null,
   "metadata": {
    "collapsed": true
   },
   "outputs": [],
   "source": [
    "X_train,Y_train=TA.get_train(X,Y,1.0)\n",
    "X_test=X_train\n",
    "Y_test=Y_train\n",
    "\n",
    "best_param=TA.SVR_param(X_train,Y_train)\n",
    "svr = SVR(kernel='linear',C=np.exp(best_param),epsilon=0.01)\n",
    "svr.fit(X_train,Y_train)\n",
    "pred=svr.predict(X_test)"
   ]
  },
  {
   "cell_type": "code",
   "execution_count": null,
   "metadata": {
    "collapsed": true
   },
   "outputs": [],
   "source": [
    "coefs=svr.coef_\n",
    "coefs=coefs.reshape(coefs.shape[1],)\n",
    "print(svr.intercept_)"
   ]
  },
  {
   "cell_type": "code",
   "execution_count": null,
   "metadata": {
    "collapsed": true
   },
   "outputs": [],
   "source": [
    "SVR_coefs=pd.DataFrame({\"Weight\":coefs},index=X_text.columns)\n",
    "SVR_coefs[\"Abs_weight\"]=abs(SVR_coefs[\"Weight\"])\n",
    "SVR_coefs=SVR_coefs.sort_values([\"Abs_weight\"],ascending=[False])\n",
    "toexport=SVR_coefs[:50]\n",
    "#pd.DataFrame(toexport).to_csv(\"8K Data\\keywords_ITEM202.csv\")"
   ]
  },
  {
   "cell_type": "code",
   "execution_count": null,
   "metadata": {
    "collapsed": true
   },
   "outputs": [],
   "source": [
    "df[df[\"conditionon\"]!=0][[\"ebitda\",\"Company Name\"]]"
   ]
  },
  {
   "cell_type": "code",
   "execution_count": null,
   "metadata": {
    "collapsed": true
   },
   "outputs": [],
   "source": [
    "Comp=pd.DataFrame({\"Y\":Y_test,\n",
    "                  \"Pred\":pred})\n",
    "Comp[\"Error\"]=abs(Comp[\"Y\"]-Comp[\"Pred\"])\n",
    "Comp"
   ]
  },
  {
   "cell_type": "code",
   "execution_count": null,
   "metadata": {
    "collapsed": true
   },
   "outputs": [],
   "source": [
    "plt.figure()\n",
    "with pd.plot_params.use('x_compat', True):\n",
    "    Comp.Pred.plot(color=\"b\",legend=True)\n",
    "    Comp.Y.plot(color=\"grey\",legend=True)\n",
    "    \n",
    "plt.xlabel(\"Text\")"
   ]
  }
 ],
 "metadata": {
  "kernelspec": {
   "display_name": "Python 3",
   "language": "python",
   "name": "python3"
  },
  "language_info": {
   "codemirror_mode": {
    "name": "ipython",
    "version": 3
   },
   "file_extension": ".py",
   "mimetype": "text/x-python",
   "name": "python",
   "nbconvert_exporter": "python",
   "pygments_lexer": "ipython3",
   "version": "3.5.2"
  },
  "toc": {
   "colors": {
    "hover_highlight": "#DAA520",
    "running_highlight": "#FF0000",
    "selected_highlight": "#FFD700"
   },
   "moveMenuLeft": true,
   "nav_menu": {
    "height": "12px",
    "width": "252px"
   },
   "navigate_menu": true,
   "number_sections": true,
   "sideBar": true,
   "threshold": 4,
   "toc_cell": false,
   "toc_section_display": "block",
   "toc_window_display": true
  }
 },
 "nbformat": 4,
 "nbformat_minor": 0
}
